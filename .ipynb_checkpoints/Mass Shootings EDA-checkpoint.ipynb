{
 "cells": [
  {
   "cell_type": "code",
   "execution_count": 263,
   "metadata": {},
   "outputs": [],
   "source": [
    "import pandas as pd\n",
    "import numpy as np\n",
    "import matplotlib.pyplot as plt\n",
    "import seaborn as sns\n"
   ]
  },
  {
   "cell_type": "code",
   "execution_count": 264,
   "metadata": {
    "scrolled": true
   },
   "outputs": [
    {
     "data": {
      "text/html": [
       "<div>\n",
       "<style scoped>\n",
       "    .dataframe tbody tr th:only-of-type {\n",
       "        vertical-align: middle;\n",
       "    }\n",
       "\n",
       "    .dataframe tbody tr th {\n",
       "        vertical-align: top;\n",
       "    }\n",
       "\n",
       "    .dataframe thead th {\n",
       "        text-align: right;\n",
       "    }\n",
       "</style>\n",
       "<table border=\"1\" class=\"dataframe\">\n",
       "  <thead>\n",
       "    <tr style=\"text-align: right;\">\n",
       "      <th></th>\n",
       "      <th>case</th>\n",
       "      <th>location</th>\n",
       "      <th>date</th>\n",
       "      <th>summary</th>\n",
       "      <th>fatalities</th>\n",
       "      <th>injured</th>\n",
       "      <th>total_victims</th>\n",
       "      <th>location.1</th>\n",
       "      <th>age_of_shooter</th>\n",
       "      <th>prior_signs_mental_health_issues</th>\n",
       "      <th>...</th>\n",
       "      <th>weapon_details</th>\n",
       "      <th>race</th>\n",
       "      <th>gender</th>\n",
       "      <th>sources</th>\n",
       "      <th>mental_health_sources</th>\n",
       "      <th>sources_additional_age</th>\n",
       "      <th>latitude</th>\n",
       "      <th>longitude</th>\n",
       "      <th>type</th>\n",
       "      <th>year</th>\n",
       "    </tr>\n",
       "  </thead>\n",
       "  <tbody>\n",
       "    <tr>\n",
       "      <td>0</td>\n",
       "      <td>Uvalde elementary school massacre</td>\n",
       "      <td>Uvalde, Texas</td>\n",
       "      <td>5/24/22</td>\n",
       "      <td>DETAILS PENDING</td>\n",
       "      <td>15</td>\n",
       "      <td>-</td>\n",
       "      <td>-</td>\n",
       "      <td>School</td>\n",
       "      <td>18</td>\n",
       "      <td>-</td>\n",
       "      <td>...</td>\n",
       "      <td>-</td>\n",
       "      <td>-</td>\n",
       "      <td>M</td>\n",
       "      <td>https://abcnews.go.com/US/texas-elementary-sch...</td>\n",
       "      <td>-</td>\n",
       "      <td>-</td>\n",
       "      <td>-</td>\n",
       "      <td>-</td>\n",
       "      <td>Mass</td>\n",
       "      <td>2022</td>\n",
       "    </tr>\n",
       "    <tr>\n",
       "      <td>1</td>\n",
       "      <td>Buffalo supermarket massacre</td>\n",
       "      <td>Buffalo, New York</td>\n",
       "      <td>5/14/22</td>\n",
       "      <td>Payton S. Gendron, 18, committed a racially mo...</td>\n",
       "      <td>10</td>\n",
       "      <td>3</td>\n",
       "      <td>13</td>\n",
       "      <td>workplace</td>\n",
       "      <td>18</td>\n",
       "      <td>yes</td>\n",
       "      <td>...</td>\n",
       "      <td>Bushmaster XM-15 semiautomatic rifle</td>\n",
       "      <td>White</td>\n",
       "      <td>M</td>\n",
       "      <td>https://www.nytimes.com/live/2022/05/15/nyregi...</td>\n",
       "      <td>https://www.nytimes.com/2022/05/15/nyregion/gu...</td>\n",
       "      <td>-</td>\n",
       "      <td>-</td>\n",
       "      <td>-</td>\n",
       "      <td>Mass</td>\n",
       "      <td>2022</td>\n",
       "    </tr>\n",
       "    <tr>\n",
       "      <td>2</td>\n",
       "      <td>Sacramento County church shooting</td>\n",
       "      <td>Sacramento, California</td>\n",
       "      <td>2/28/22</td>\n",
       "      <td>\"A man believed to be meeting his three childr...</td>\n",
       "      <td>4</td>\n",
       "      <td>0</td>\n",
       "      <td>4</td>\n",
       "      <td>Religious</td>\n",
       "      <td>-</td>\n",
       "      <td>-</td>\n",
       "      <td>...</td>\n",
       "      <td>-</td>\n",
       "      <td>-</td>\n",
       "      <td>M</td>\n",
       "      <td>https://www.nytimes.com/2022/02/28/us/church-s...</td>\n",
       "      <td>-</td>\n",
       "      <td>-</td>\n",
       "      <td>38.60111019</td>\n",
       "      <td>-121.4189659</td>\n",
       "      <td>Mass</td>\n",
       "      <td>2022</td>\n",
       "    </tr>\n",
       "    <tr>\n",
       "      <td>3</td>\n",
       "      <td>Oxford High School shooting</td>\n",
       "      <td>Oxford, Michigan</td>\n",
       "      <td>11/30/21</td>\n",
       "      <td>Ethan Crumbley, a 15-year-old student at Oxfor...</td>\n",
       "      <td>4</td>\n",
       "      <td>7</td>\n",
       "      <td>11</td>\n",
       "      <td>School</td>\n",
       "      <td>15</td>\n",
       "      <td>-</td>\n",
       "      <td>...</td>\n",
       "      <td>Sig Sauer 9mm pistol</td>\n",
       "      <td>-</td>\n",
       "      <td>M</td>\n",
       "      <td>https://www.washingtonpost.com/nation/2021/11/...</td>\n",
       "      <td>-</td>\n",
       "      <td>-</td>\n",
       "      <td>42.84410784</td>\n",
       "      <td>-83.25992831</td>\n",
       "      <td>Mass</td>\n",
       "      <td>2021</td>\n",
       "    </tr>\n",
       "    <tr>\n",
       "      <td>4</td>\n",
       "      <td>San Jose VTA shooting</td>\n",
       "      <td>San Jose, California</td>\n",
       "      <td>5/26/21</td>\n",
       "      <td>Samuel Cassidy, 57, a Valley Transportation Au...</td>\n",
       "      <td>9</td>\n",
       "      <td>0</td>\n",
       "      <td>9</td>\n",
       "      <td>Workplace</td>\n",
       "      <td>57</td>\n",
       "      <td>yes</td>\n",
       "      <td>...</td>\n",
       "      <td>-</td>\n",
       "      <td>-</td>\n",
       "      <td>M</td>\n",
       "      <td>https://www.sfchronicle.com/crime/article/Mass...</td>\n",
       "      <td>https://www.nytimes.com/2021/05/26/us/what-hap...</td>\n",
       "      <td>-</td>\n",
       "      <td>37.316097</td>\n",
       "      <td>-121.888533</td>\n",
       "      <td>Mass</td>\n",
       "      <td>2021</td>\n",
       "    </tr>\n",
       "  </tbody>\n",
       "</table>\n",
       "<p>5 rows × 24 columns</p>\n",
       "</div>"
      ],
      "text/plain": [
       "                                case                location      date  \\\n",
       "0  Uvalde elementary school massacre           Uvalde, Texas   5/24/22   \n",
       "1       Buffalo supermarket massacre       Buffalo, New York   5/14/22   \n",
       "2  Sacramento County church shooting  Sacramento, California   2/28/22   \n",
       "3        Oxford High School shooting        Oxford, Michigan  11/30/21   \n",
       "4              San Jose VTA shooting    San Jose, California   5/26/21   \n",
       "\n",
       "                                             summary  fatalities injured  \\\n",
       "0                                    DETAILS PENDING          15       -   \n",
       "1  Payton S. Gendron, 18, committed a racially mo...          10       3   \n",
       "2  \"A man believed to be meeting his three childr...           4       0   \n",
       "3  Ethan Crumbley, a 15-year-old student at Oxfor...           4       7   \n",
       "4  Samuel Cassidy, 57, a Valley Transportation Au...           9       0   \n",
       "\n",
       "  total_victims location.1 age_of_shooter prior_signs_mental_health_issues  \\\n",
       "0             -     School             18                                -   \n",
       "1            13  workplace             18                              yes   \n",
       "2             4  Religious              -                                -   \n",
       "3            11     School             15                                -   \n",
       "4             9  Workplace             57                              yes   \n",
       "\n",
       "   ...                        weapon_details   race gender  \\\n",
       "0  ...                                     -      -      M   \n",
       "1  ...  Bushmaster XM-15 semiautomatic rifle  White      M   \n",
       "2  ...                                     -      -      M   \n",
       "3  ...                  Sig Sauer 9mm pistol      -      M   \n",
       "4  ...                                     -      -      M   \n",
       "\n",
       "                                             sources  \\\n",
       "0  https://abcnews.go.com/US/texas-elementary-sch...   \n",
       "1  https://www.nytimes.com/live/2022/05/15/nyregi...   \n",
       "2  https://www.nytimes.com/2022/02/28/us/church-s...   \n",
       "3  https://www.washingtonpost.com/nation/2021/11/...   \n",
       "4  https://www.sfchronicle.com/crime/article/Mass...   \n",
       "\n",
       "                               mental_health_sources sources_additional_age  \\\n",
       "0                                                  -                      -   \n",
       "1  https://www.nytimes.com/2022/05/15/nyregion/gu...                      -   \n",
       "2                                                  -                      -   \n",
       "3                                                  -                      -   \n",
       "4  https://www.nytimes.com/2021/05/26/us/what-hap...                      -   \n",
       "\n",
       "      latitude     longitude  type  year  \n",
       "0            -             -  Mass  2022  \n",
       "1            -             -  Mass  2022  \n",
       "2  38.60111019  -121.4189659  Mass  2022  \n",
       "3  42.84410784  -83.25992831  Mass  2021  \n",
       "4    37.316097   -121.888533  Mass  2021  \n",
       "\n",
       "[5 rows x 24 columns]"
      ]
     },
     "execution_count": 264,
     "metadata": {},
     "output_type": "execute_result"
    }
   ],
   "source": [
    "df = pd.read_csv(r\"C:\\Users\\Yousuf Traders\\Desktop\\EDA\\US Mass Shootings.csv\")\n",
    "df.head()"
   ]
  },
  {
   "cell_type": "markdown",
   "metadata": {},
   "source": [
    "## Rows and Columns"
   ]
  },
  {
   "cell_type": "code",
   "execution_count": 265,
   "metadata": {},
   "outputs": [
    {
     "data": {
      "text/plain": [
       "(128, 24)"
      ]
     },
     "execution_count": 265,
     "metadata": {},
     "output_type": "execute_result"
    }
   ],
   "source": [
    "df.shape"
   ]
  },
  {
   "cell_type": "markdown",
   "metadata": {},
   "source": [
    "## Column names"
   ]
  },
  {
   "cell_type": "code",
   "execution_count": 266,
   "metadata": {
    "scrolled": true
   },
   "outputs": [
    {
     "data": {
      "text/plain": [
       "Index(['case', 'location', 'date', 'summary', 'fatalities', 'injured',\n",
       "       'total_victims', 'location.1', 'age_of_shooter',\n",
       "       'prior_signs_mental_health_issues', 'mental_health_details',\n",
       "       'weapons_obtained_legally', 'where_obtained', 'weapon_type',\n",
       "       'weapon_details', 'race', 'gender', 'sources', 'mental_health_sources',\n",
       "       'sources_additional_age', 'latitude', 'longitude', 'type', 'year'],\n",
       "      dtype='object')"
      ]
     },
     "execution_count": 266,
     "metadata": {},
     "output_type": "execute_result"
    }
   ],
   "source": [
    "df.columns"
   ]
  },
  {
   "cell_type": "code",
   "execution_count": 16,
   "metadata": {
    "scrolled": true
   },
   "outputs": [
    {
     "data": {
      "text/plain": [
       "2"
      ]
     },
     "execution_count": 16,
     "metadata": {},
     "output_type": "execute_result"
    }
   ],
   "source": [
    "len(df.type.unique())"
   ]
  },
  {
   "cell_type": "code",
   "execution_count": 18,
   "metadata": {},
   "outputs": [
    {
     "data": {
      "text/plain": [
       "array(['Mass', 'Spree'], dtype=object)"
      ]
     },
     "execution_count": 18,
     "metadata": {},
     "output_type": "execute_result"
    }
   ],
   "source": [
    "df.type.unique()"
   ]
  },
  {
   "cell_type": "markdown",
   "metadata": {},
   "source": [
    "## Creating new dataframe"
   ]
  },
  {
   "cell_type": "code",
   "execution_count": 898,
   "metadata": {
    "scrolled": true
   },
   "outputs": [
    {
     "data": {
      "text/html": [
       "<div>\n",
       "<style scoped>\n",
       "    .dataframe tbody tr th:only-of-type {\n",
       "        vertical-align: middle;\n",
       "    }\n",
       "\n",
       "    .dataframe tbody tr th {\n",
       "        vertical-align: top;\n",
       "    }\n",
       "\n",
       "    .dataframe thead th {\n",
       "        text-align: right;\n",
       "    }\n",
       "</style>\n",
       "<table border=\"1\" class=\"dataframe\">\n",
       "  <thead>\n",
       "    <tr style=\"text-align: right;\">\n",
       "      <th></th>\n",
       "      <th>location</th>\n",
       "      <th>date</th>\n",
       "      <th>fatalities</th>\n",
       "      <th>injured</th>\n",
       "      <th>total_victims</th>\n",
       "      <th>location.1</th>\n",
       "      <th>age_of_shooter</th>\n",
       "      <th>prior_signs_mental_health_issues</th>\n",
       "      <th>weapons_obtained_legally</th>\n",
       "      <th>weapon_type</th>\n",
       "      <th>race</th>\n",
       "      <th>gender</th>\n",
       "      <th>type</th>\n",
       "    </tr>\n",
       "  </thead>\n",
       "  <tbody>\n",
       "    <tr>\n",
       "      <td>0</td>\n",
       "      <td>Uvalde, Texas</td>\n",
       "      <td>5/24/22</td>\n",
       "      <td>15</td>\n",
       "      <td>-</td>\n",
       "      <td>-</td>\n",
       "      <td>School</td>\n",
       "      <td>18</td>\n",
       "      <td>-</td>\n",
       "      <td>-</td>\n",
       "      <td>-</td>\n",
       "      <td>-</td>\n",
       "      <td>M</td>\n",
       "      <td>Mass</td>\n",
       "    </tr>\n",
       "    <tr>\n",
       "      <td>1</td>\n",
       "      <td>Buffalo, New York</td>\n",
       "      <td>5/14/22</td>\n",
       "      <td>10</td>\n",
       "      <td>3</td>\n",
       "      <td>13</td>\n",
       "      <td>workplace</td>\n",
       "      <td>18</td>\n",
       "      <td>yes</td>\n",
       "      <td>yes</td>\n",
       "      <td>semiautomatic rifle</td>\n",
       "      <td>White</td>\n",
       "      <td>M</td>\n",
       "      <td>Mass</td>\n",
       "    </tr>\n",
       "    <tr>\n",
       "      <td>2</td>\n",
       "      <td>Sacramento, California</td>\n",
       "      <td>2/28/22</td>\n",
       "      <td>4</td>\n",
       "      <td>0</td>\n",
       "      <td>4</td>\n",
       "      <td>Religious</td>\n",
       "      <td>-</td>\n",
       "      <td>-</td>\n",
       "      <td>-</td>\n",
       "      <td>-</td>\n",
       "      <td>-</td>\n",
       "      <td>M</td>\n",
       "      <td>Mass</td>\n",
       "    </tr>\n",
       "    <tr>\n",
       "      <td>3</td>\n",
       "      <td>Oxford, Michigan</td>\n",
       "      <td>11/30/21</td>\n",
       "      <td>4</td>\n",
       "      <td>7</td>\n",
       "      <td>11</td>\n",
       "      <td>School</td>\n",
       "      <td>15</td>\n",
       "      <td>-</td>\n",
       "      <td>-</td>\n",
       "      <td>semiautomatic handgun</td>\n",
       "      <td>-</td>\n",
       "      <td>M</td>\n",
       "      <td>Mass</td>\n",
       "    </tr>\n",
       "    <tr>\n",
       "      <td>4</td>\n",
       "      <td>San Jose, California</td>\n",
       "      <td>5/26/21</td>\n",
       "      <td>9</td>\n",
       "      <td>0</td>\n",
       "      <td>9</td>\n",
       "      <td>Workplace</td>\n",
       "      <td>57</td>\n",
       "      <td>yes</td>\n",
       "      <td>-</td>\n",
       "      <td>semiautomatic handguns</td>\n",
       "      <td>-</td>\n",
       "      <td>M</td>\n",
       "      <td>Mass</td>\n",
       "    </tr>\n",
       "    <tr>\n",
       "      <td>...</td>\n",
       "      <td>...</td>\n",
       "      <td>...</td>\n",
       "      <td>...</td>\n",
       "      <td>...</td>\n",
       "      <td>...</td>\n",
       "      <td>...</td>\n",
       "      <td>...</td>\n",
       "      <td>...</td>\n",
       "      <td>...</td>\n",
       "      <td>...</td>\n",
       "      <td>...</td>\n",
       "      <td>...</td>\n",
       "      <td>...</td>\n",
       "    </tr>\n",
       "    <tr>\n",
       "      <td>123</td>\n",
       "      <td>Palm Bay, Florida</td>\n",
       "      <td>4/23/1987</td>\n",
       "      <td>6</td>\n",
       "      <td>14</td>\n",
       "      <td>20</td>\n",
       "      <td>Other</td>\n",
       "      <td>59</td>\n",
       "      <td>Yes</td>\n",
       "      <td>Yes</td>\n",
       "      <td>One rifle, one revolver, one shotgun</td>\n",
       "      <td>white</td>\n",
       "      <td>Male</td>\n",
       "      <td>Spree</td>\n",
       "    </tr>\n",
       "    <tr>\n",
       "      <td>124</td>\n",
       "      <td>Edmond, Oklahoma</td>\n",
       "      <td>8/20/1986</td>\n",
       "      <td>15</td>\n",
       "      <td>6</td>\n",
       "      <td>21</td>\n",
       "      <td>Workplace</td>\n",
       "      <td>44</td>\n",
       "      <td>Unclear</td>\n",
       "      <td>Yes</td>\n",
       "      <td>Three semiautomatic handguns</td>\n",
       "      <td>white</td>\n",
       "      <td>Male</td>\n",
       "      <td>Mass</td>\n",
       "    </tr>\n",
       "    <tr>\n",
       "      <td>125</td>\n",
       "      <td>San Ysidro, California</td>\n",
       "      <td>7/18/1984</td>\n",
       "      <td>22</td>\n",
       "      <td>19</td>\n",
       "      <td>41</td>\n",
       "      <td>Other</td>\n",
       "      <td>41</td>\n",
       "      <td>Yes</td>\n",
       "      <td>Yes</td>\n",
       "      <td>One semiautomatic handgun, one rifle (assault)...</td>\n",
       "      <td>white</td>\n",
       "      <td>Male</td>\n",
       "      <td>Mass</td>\n",
       "    </tr>\n",
       "    <tr>\n",
       "      <td>126</td>\n",
       "      <td>Dallas, Texas</td>\n",
       "      <td>6/29/1984</td>\n",
       "      <td>6</td>\n",
       "      <td>1</td>\n",
       "      <td>7</td>\n",
       "      <td>Other</td>\n",
       "      <td>39</td>\n",
       "      <td>Yes</td>\n",
       "      <td>No</td>\n",
       "      <td>One semiautomatic handgun</td>\n",
       "      <td>white</td>\n",
       "      <td>Male</td>\n",
       "      <td>Mass</td>\n",
       "    </tr>\n",
       "    <tr>\n",
       "      <td>127</td>\n",
       "      <td>Miami, Florida</td>\n",
       "      <td>8/20/1982</td>\n",
       "      <td>8</td>\n",
       "      <td>3</td>\n",
       "      <td>11</td>\n",
       "      <td>Other</td>\n",
       "      <td>51</td>\n",
       "      <td>Yes</td>\n",
       "      <td>Yes</td>\n",
       "      <td>One shotgun</td>\n",
       "      <td>white</td>\n",
       "      <td>Male</td>\n",
       "      <td>Mass</td>\n",
       "    </tr>\n",
       "  </tbody>\n",
       "</table>\n",
       "<p>128 rows × 13 columns</p>\n",
       "</div>"
      ],
      "text/plain": [
       "                   location       date  fatalities injured total_victims  \\\n",
       "0             Uvalde, Texas    5/24/22          15       -             -   \n",
       "1         Buffalo, New York    5/14/22          10       3            13   \n",
       "2    Sacramento, California    2/28/22           4       0             4   \n",
       "3          Oxford, Michigan   11/30/21           4       7            11   \n",
       "4      San Jose, California    5/26/21           9       0             9   \n",
       "..                      ...        ...         ...     ...           ...   \n",
       "123       Palm Bay, Florida  4/23/1987           6      14            20   \n",
       "124        Edmond, Oklahoma  8/20/1986          15       6            21   \n",
       "125  San Ysidro, California  7/18/1984          22      19            41   \n",
       "126           Dallas, Texas  6/29/1984           6       1             7   \n",
       "127          Miami, Florida  8/20/1982           8       3            11   \n",
       "\n",
       "    location.1 age_of_shooter prior_signs_mental_health_issues  \\\n",
       "0       School             18                                -   \n",
       "1    workplace             18                              yes   \n",
       "2    Religious              -                                -   \n",
       "3       School             15                                -   \n",
       "4    Workplace             57                              yes   \n",
       "..         ...            ...                              ...   \n",
       "123      Other             59                              Yes   \n",
       "124  Workplace             44                         Unclear    \n",
       "125      Other             41                              Yes   \n",
       "126      Other             39                              Yes   \n",
       "127      Other             51                              Yes   \n",
       "\n",
       "    weapons_obtained_legally  \\\n",
       "0                          -   \n",
       "1                        yes   \n",
       "2                          -   \n",
       "3                          -   \n",
       "4                          -   \n",
       "..                       ...   \n",
       "123                      Yes   \n",
       "124                      Yes   \n",
       "125                      Yes   \n",
       "126                       No   \n",
       "127                      Yes   \n",
       "\n",
       "                                           weapon_type   race gender   type  \n",
       "0                                                    -      -      M   Mass  \n",
       "1                                  semiautomatic rifle  White      M   Mass  \n",
       "2                                                    -      -      M   Mass  \n",
       "3                                semiautomatic handgun      -      M   Mass  \n",
       "4                               semiautomatic handguns      -      M   Mass  \n",
       "..                                                 ...    ...    ...    ...  \n",
       "123               One rifle, one revolver, one shotgun  white   Male  Spree  \n",
       "124                       Three semiautomatic handguns  white   Male   Mass  \n",
       "125  One semiautomatic handgun, one rifle (assault)...  white   Male   Mass  \n",
       "126                          One semiautomatic handgun  white   Male   Mass  \n",
       "127                                        One shotgun  white   Male   Mass  \n",
       "\n",
       "[128 rows x 13 columns]"
      ]
     },
     "execution_count": 898,
     "metadata": {},
     "output_type": "execute_result"
    }
   ],
   "source": [
    "new_df = pd.DataFrame(df[[\"location\",\"date\",\"fatalities\",\"injured\",\"total_victims\",\"location.1\",\"age_of_shooter\",\n",
    "                          \"prior_signs_mental_health_issues\",\"weapons_obtained_legally\",\"weapon_type\",\"race\",\"gender\",\"type\"]])\n",
    "new_df"
   ]
  },
  {
   "cell_type": "markdown",
   "metadata": {},
   "source": [
    "## Checking duplicates"
   ]
  },
  {
   "cell_type": "code",
   "execution_count": 565,
   "metadata": {
    "scrolled": true
   },
   "outputs": [
    {
     "data": {
      "text/plain": [
       "0"
      ]
     },
     "execution_count": 565,
     "metadata": {},
     "output_type": "execute_result"
    }
   ],
   "source": [
    "new_df.duplicated().sum()"
   ]
  },
  {
   "cell_type": "markdown",
   "metadata": {},
   "source": [
    "## Replacing special characters"
   ]
  },
  {
   "cell_type": "code",
   "execution_count": 899,
   "metadata": {
    "scrolled": true
   },
   "outputs": [
    {
     "data": {
      "text/html": [
       "<div>\n",
       "<style scoped>\n",
       "    .dataframe tbody tr th:only-of-type {\n",
       "        vertical-align: middle;\n",
       "    }\n",
       "\n",
       "    .dataframe tbody tr th {\n",
       "        vertical-align: top;\n",
       "    }\n",
       "\n",
       "    .dataframe thead th {\n",
       "        text-align: right;\n",
       "    }\n",
       "</style>\n",
       "<table border=\"1\" class=\"dataframe\">\n",
       "  <thead>\n",
       "    <tr style=\"text-align: right;\">\n",
       "      <th></th>\n",
       "      <th>location</th>\n",
       "      <th>date</th>\n",
       "      <th>fatalities</th>\n",
       "      <th>injured</th>\n",
       "      <th>total_victims</th>\n",
       "      <th>location.1</th>\n",
       "      <th>age_of_shooter</th>\n",
       "      <th>prior_signs_mental_health_issues</th>\n",
       "      <th>weapons_obtained_legally</th>\n",
       "      <th>weapon_type</th>\n",
       "      <th>race</th>\n",
       "      <th>gender</th>\n",
       "      <th>type</th>\n",
       "    </tr>\n",
       "  </thead>\n",
       "  <tbody>\n",
       "    <tr>\n",
       "      <td>0</td>\n",
       "      <td>Uvalde, Texas</td>\n",
       "      <td>5/24/22</td>\n",
       "      <td>15</td>\n",
       "      <td>NaN</td>\n",
       "      <td>NaN</td>\n",
       "      <td>School</td>\n",
       "      <td>18</td>\n",
       "      <td>NaN</td>\n",
       "      <td>NaN</td>\n",
       "      <td>NaN</td>\n",
       "      <td>NaN</td>\n",
       "      <td>M</td>\n",
       "      <td>Mass</td>\n",
       "    </tr>\n",
       "    <tr>\n",
       "      <td>1</td>\n",
       "      <td>Buffalo, New York</td>\n",
       "      <td>5/14/22</td>\n",
       "      <td>10</td>\n",
       "      <td>3</td>\n",
       "      <td>13</td>\n",
       "      <td>workplace</td>\n",
       "      <td>18</td>\n",
       "      <td>yes</td>\n",
       "      <td>yes</td>\n",
       "      <td>semiautomatic rifle</td>\n",
       "      <td>White</td>\n",
       "      <td>M</td>\n",
       "      <td>Mass</td>\n",
       "    </tr>\n",
       "    <tr>\n",
       "      <td>2</td>\n",
       "      <td>Sacramento, California</td>\n",
       "      <td>2/28/22</td>\n",
       "      <td>4</td>\n",
       "      <td>0</td>\n",
       "      <td>4</td>\n",
       "      <td>Religious</td>\n",
       "      <td>NaN</td>\n",
       "      <td>NaN</td>\n",
       "      <td>NaN</td>\n",
       "      <td>NaN</td>\n",
       "      <td>NaN</td>\n",
       "      <td>M</td>\n",
       "      <td>Mass</td>\n",
       "    </tr>\n",
       "    <tr>\n",
       "      <td>3</td>\n",
       "      <td>Oxford, Michigan</td>\n",
       "      <td>11/30/21</td>\n",
       "      <td>4</td>\n",
       "      <td>7</td>\n",
       "      <td>11</td>\n",
       "      <td>School</td>\n",
       "      <td>15</td>\n",
       "      <td>NaN</td>\n",
       "      <td>NaN</td>\n",
       "      <td>semiautomatic handgun</td>\n",
       "      <td>NaN</td>\n",
       "      <td>M</td>\n",
       "      <td>Mass</td>\n",
       "    </tr>\n",
       "    <tr>\n",
       "      <td>4</td>\n",
       "      <td>San Jose, California</td>\n",
       "      <td>5/26/21</td>\n",
       "      <td>9</td>\n",
       "      <td>0</td>\n",
       "      <td>9</td>\n",
       "      <td>Workplace</td>\n",
       "      <td>57</td>\n",
       "      <td>yes</td>\n",
       "      <td>NaN</td>\n",
       "      <td>semiautomatic handguns</td>\n",
       "      <td>NaN</td>\n",
       "      <td>M</td>\n",
       "      <td>Mass</td>\n",
       "    </tr>\n",
       "    <tr>\n",
       "      <td>...</td>\n",
       "      <td>...</td>\n",
       "      <td>...</td>\n",
       "      <td>...</td>\n",
       "      <td>...</td>\n",
       "      <td>...</td>\n",
       "      <td>...</td>\n",
       "      <td>...</td>\n",
       "      <td>...</td>\n",
       "      <td>...</td>\n",
       "      <td>...</td>\n",
       "      <td>...</td>\n",
       "      <td>...</td>\n",
       "      <td>...</td>\n",
       "    </tr>\n",
       "    <tr>\n",
       "      <td>123</td>\n",
       "      <td>Palm Bay, Florida</td>\n",
       "      <td>4/23/1987</td>\n",
       "      <td>6</td>\n",
       "      <td>14</td>\n",
       "      <td>20</td>\n",
       "      <td>Other</td>\n",
       "      <td>59</td>\n",
       "      <td>Yes</td>\n",
       "      <td>Yes</td>\n",
       "      <td>One rifle, one revolver, one shotgun</td>\n",
       "      <td>white</td>\n",
       "      <td>Male</td>\n",
       "      <td>Spree</td>\n",
       "    </tr>\n",
       "    <tr>\n",
       "      <td>124</td>\n",
       "      <td>Edmond, Oklahoma</td>\n",
       "      <td>8/20/1986</td>\n",
       "      <td>15</td>\n",
       "      <td>6</td>\n",
       "      <td>21</td>\n",
       "      <td>Workplace</td>\n",
       "      <td>44</td>\n",
       "      <td>Unclear</td>\n",
       "      <td>Yes</td>\n",
       "      <td>Three semiautomatic handguns</td>\n",
       "      <td>white</td>\n",
       "      <td>Male</td>\n",
       "      <td>Mass</td>\n",
       "    </tr>\n",
       "    <tr>\n",
       "      <td>125</td>\n",
       "      <td>San Ysidro, California</td>\n",
       "      <td>7/18/1984</td>\n",
       "      <td>22</td>\n",
       "      <td>19</td>\n",
       "      <td>41</td>\n",
       "      <td>Other</td>\n",
       "      <td>41</td>\n",
       "      <td>Yes</td>\n",
       "      <td>Yes</td>\n",
       "      <td>One semiautomatic handgun, one rifle (assault)...</td>\n",
       "      <td>white</td>\n",
       "      <td>Male</td>\n",
       "      <td>Mass</td>\n",
       "    </tr>\n",
       "    <tr>\n",
       "      <td>126</td>\n",
       "      <td>Dallas, Texas</td>\n",
       "      <td>6/29/1984</td>\n",
       "      <td>6</td>\n",
       "      <td>1</td>\n",
       "      <td>7</td>\n",
       "      <td>Other</td>\n",
       "      <td>39</td>\n",
       "      <td>Yes</td>\n",
       "      <td>No</td>\n",
       "      <td>One semiautomatic handgun</td>\n",
       "      <td>white</td>\n",
       "      <td>Male</td>\n",
       "      <td>Mass</td>\n",
       "    </tr>\n",
       "    <tr>\n",
       "      <td>127</td>\n",
       "      <td>Miami, Florida</td>\n",
       "      <td>8/20/1982</td>\n",
       "      <td>8</td>\n",
       "      <td>3</td>\n",
       "      <td>11</td>\n",
       "      <td>Other</td>\n",
       "      <td>51</td>\n",
       "      <td>Yes</td>\n",
       "      <td>Yes</td>\n",
       "      <td>One shotgun</td>\n",
       "      <td>white</td>\n",
       "      <td>Male</td>\n",
       "      <td>Mass</td>\n",
       "    </tr>\n",
       "  </tbody>\n",
       "</table>\n",
       "<p>128 rows × 13 columns</p>\n",
       "</div>"
      ],
      "text/plain": [
       "                   location       date  fatalities injured total_victims  \\\n",
       "0             Uvalde, Texas    5/24/22          15     NaN           NaN   \n",
       "1         Buffalo, New York    5/14/22          10       3            13   \n",
       "2    Sacramento, California    2/28/22           4       0             4   \n",
       "3          Oxford, Michigan   11/30/21           4       7            11   \n",
       "4      San Jose, California    5/26/21           9       0             9   \n",
       "..                      ...        ...         ...     ...           ...   \n",
       "123       Palm Bay, Florida  4/23/1987           6      14            20   \n",
       "124        Edmond, Oklahoma  8/20/1986          15       6            21   \n",
       "125  San Ysidro, California  7/18/1984          22      19            41   \n",
       "126           Dallas, Texas  6/29/1984           6       1             7   \n",
       "127          Miami, Florida  8/20/1982           8       3            11   \n",
       "\n",
       "    location.1 age_of_shooter prior_signs_mental_health_issues  \\\n",
       "0       School             18                              NaN   \n",
       "1    workplace             18                              yes   \n",
       "2    Religious            NaN                              NaN   \n",
       "3       School             15                              NaN   \n",
       "4    Workplace             57                              yes   \n",
       "..         ...            ...                              ...   \n",
       "123      Other             59                              Yes   \n",
       "124  Workplace             44                         Unclear    \n",
       "125      Other             41                              Yes   \n",
       "126      Other             39                              Yes   \n",
       "127      Other             51                              Yes   \n",
       "\n",
       "    weapons_obtained_legally  \\\n",
       "0                        NaN   \n",
       "1                        yes   \n",
       "2                        NaN   \n",
       "3                        NaN   \n",
       "4                        NaN   \n",
       "..                       ...   \n",
       "123                      Yes   \n",
       "124                      Yes   \n",
       "125                      Yes   \n",
       "126                       No   \n",
       "127                      Yes   \n",
       "\n",
       "                                           weapon_type   race gender   type  \n",
       "0                                                  NaN    NaN      M   Mass  \n",
       "1                                  semiautomatic rifle  White      M   Mass  \n",
       "2                                                  NaN    NaN      M   Mass  \n",
       "3                                semiautomatic handgun    NaN      M   Mass  \n",
       "4                               semiautomatic handguns    NaN      M   Mass  \n",
       "..                                                 ...    ...    ...    ...  \n",
       "123               One rifle, one revolver, one shotgun  white   Male  Spree  \n",
       "124                       Three semiautomatic handguns  white   Male   Mass  \n",
       "125  One semiautomatic handgun, one rifle (assault)...  white   Male   Mass  \n",
       "126                          One semiautomatic handgun  white   Male   Mass  \n",
       "127                                        One shotgun  white   Male   Mass  \n",
       "\n",
       "[128 rows x 13 columns]"
      ]
     },
     "execution_count": 899,
     "metadata": {},
     "output_type": "execute_result"
    }
   ],
   "source": [
    "new_df= new_df.replace(\"-\",np.NAN)\n",
    "new_df"
   ]
  },
  {
   "cell_type": "markdown",
   "metadata": {},
   "source": [
    "## Checking null"
   ]
  },
  {
   "cell_type": "code",
   "execution_count": 567,
   "metadata": {
    "scrolled": true
   },
   "outputs": [
    {
     "data": {
      "text/plain": [
       "location                             0\n",
       "date                                 0\n",
       "fatalities                           0\n",
       "injured                              1\n",
       "total_victims                        1\n",
       "location.1                           0\n",
       "age_of_shooter                       4\n",
       "prior_signs_mental_health_issues    18\n",
       "weapons_obtained_legally            12\n",
       "weapon_type                          5\n",
       "race                                12\n",
       "gender                               0\n",
       "type                                 0\n",
       "dtype: int64"
      ]
     },
     "execution_count": 567,
     "metadata": {},
     "output_type": "execute_result"
    }
   ],
   "source": [
    "new_df.isnull().sum()"
   ]
  },
  {
   "cell_type": "markdown",
   "metadata": {},
   "source": [
    "## Checking data types"
   ]
  },
  {
   "cell_type": "code",
   "execution_count": 569,
   "metadata": {
    "scrolled": true
   },
   "outputs": [
    {
     "data": {
      "text/plain": [
       "location                            object\n",
       "date                                object\n",
       "fatalities                           int64\n",
       "injured                             object\n",
       "total_victims                       object\n",
       "location.1                          object\n",
       "age_of_shooter                      object\n",
       "prior_signs_mental_health_issues    object\n",
       "weapons_obtained_legally            object\n",
       "weapon_type                         object\n",
       "race                                object\n",
       "gender                              object\n",
       "type                                object\n",
       "dtype: object"
      ]
     },
     "execution_count": 569,
     "metadata": {},
     "output_type": "execute_result"
    }
   ],
   "source": [
    "new_df.dtypes"
   ]
  },
  {
   "cell_type": "markdown",
   "metadata": {},
   "source": [
    "## Changing data types"
   ]
  },
  {
   "cell_type": "code",
   "execution_count": 909,
   "metadata": {},
   "outputs": [],
   "source": [
    "new_df[\"date\"]= pd.to_datetime(new_df[\"date\"])\n",
    "new_df[\"injured\"]= new_df[\"injured\"].astype(int)\n",
    "new_df[\"total_victims\"]= new_df[\"injured\"].astype(int)\n",
    "new_df[\"age_of_shooter\"]= new_df[\"age_of_shooter\"].astype(int)"
   ]
  },
  {
   "cell_type": "code",
   "execution_count": 910,
   "metadata": {
    "scrolled": true
   },
   "outputs": [
    {
     "data": {
      "text/plain": [
       "location                                    object\n",
       "date                                datetime64[ns]\n",
       "fatalities                                   int64\n",
       "injured                                      int32\n",
       "total_victims                                int32\n",
       "location.1                                  object\n",
       "age_of_shooter                               int32\n",
       "prior_signs_mental_health_issues            object\n",
       "weapons_obtained_legally                    object\n",
       "weapon_type                                 object\n",
       "race                                        object\n",
       "gender                                      object\n",
       "type                                        object\n",
       "dtype: object"
      ]
     },
     "execution_count": 910,
     "metadata": {},
     "output_type": "execute_result"
    }
   ],
   "source": [
    "new_df.dtypes"
   ]
  },
  {
   "cell_type": "markdown",
   "metadata": {},
   "source": [
    "## Statistics"
   ]
  },
  {
   "cell_type": "code",
   "execution_count": 911,
   "metadata": {
    "scrolled": true
   },
   "outputs": [
    {
     "data": {
      "text/html": [
       "<div>\n",
       "<style scoped>\n",
       "    .dataframe tbody tr th:only-of-type {\n",
       "        vertical-align: middle;\n",
       "    }\n",
       "\n",
       "    .dataframe tbody tr th {\n",
       "        vertical-align: top;\n",
       "    }\n",
       "\n",
       "    .dataframe thead th {\n",
       "        text-align: right;\n",
       "    }\n",
       "</style>\n",
       "<table border=\"1\" class=\"dataframe\">\n",
       "  <thead>\n",
       "    <tr style=\"text-align: right;\">\n",
       "      <th></th>\n",
       "      <th>fatalities</th>\n",
       "      <th>injured</th>\n",
       "      <th>total_victims</th>\n",
       "      <th>age_of_shooter</th>\n",
       "    </tr>\n",
       "  </thead>\n",
       "  <tbody>\n",
       "    <tr>\n",
       "      <td>count</td>\n",
       "      <td>123.000000</td>\n",
       "      <td>123.000000</td>\n",
       "      <td>123.000000</td>\n",
       "      <td>123.000000</td>\n",
       "    </tr>\n",
       "    <tr>\n",
       "      <td>mean</td>\n",
       "      <td>8.121951</td>\n",
       "      <td>11.788618</td>\n",
       "      <td>11.788618</td>\n",
       "      <td>33.869919</td>\n",
       "    </tr>\n",
       "    <tr>\n",
       "      <td>std</td>\n",
       "      <td>7.778265</td>\n",
       "      <td>49.677856</td>\n",
       "      <td>49.677856</td>\n",
       "      <td>12.267483</td>\n",
       "    </tr>\n",
       "    <tr>\n",
       "      <td>min</td>\n",
       "      <td>3.000000</td>\n",
       "      <td>0.000000</td>\n",
       "      <td>0.000000</td>\n",
       "      <td>11.000000</td>\n",
       "    </tr>\n",
       "    <tr>\n",
       "      <td>25%</td>\n",
       "      <td>5.000000</td>\n",
       "      <td>1.000000</td>\n",
       "      <td>1.000000</td>\n",
       "      <td>24.000000</td>\n",
       "    </tr>\n",
       "    <tr>\n",
       "      <td>50%</td>\n",
       "      <td>6.000000</td>\n",
       "      <td>3.000000</td>\n",
       "      <td>3.000000</td>\n",
       "      <td>34.000000</td>\n",
       "    </tr>\n",
       "    <tr>\n",
       "      <td>75%</td>\n",
       "      <td>9.000000</td>\n",
       "      <td>10.000000</td>\n",
       "      <td>10.000000</td>\n",
       "      <td>42.500000</td>\n",
       "    </tr>\n",
       "    <tr>\n",
       "      <td>max</td>\n",
       "      <td>58.000000</td>\n",
       "      <td>546.000000</td>\n",
       "      <td>546.000000</td>\n",
       "      <td>66.000000</td>\n",
       "    </tr>\n",
       "  </tbody>\n",
       "</table>\n",
       "</div>"
      ],
      "text/plain": [
       "       fatalities     injured  total_victims  age_of_shooter\n",
       "count  123.000000  123.000000     123.000000      123.000000\n",
       "mean     8.121951   11.788618      11.788618       33.869919\n",
       "std      7.778265   49.677856      49.677856       12.267483\n",
       "min      3.000000    0.000000       0.000000       11.000000\n",
       "25%      5.000000    1.000000       1.000000       24.000000\n",
       "50%      6.000000    3.000000       3.000000       34.000000\n",
       "75%      9.000000   10.000000      10.000000       42.500000\n",
       "max     58.000000  546.000000     546.000000       66.000000"
      ]
     },
     "execution_count": 911,
     "metadata": {},
     "output_type": "execute_result"
    }
   ],
   "source": [
    "new_df.describe()"
   ]
  },
  {
   "cell_type": "markdown",
   "metadata": {},
   "source": [
    "## Deleting null"
   ]
  },
  {
   "cell_type": "code",
   "execution_count": 912,
   "metadata": {
    "scrolled": true
   },
   "outputs": [
    {
     "data": {
      "text/html": [
       "<div>\n",
       "<style scoped>\n",
       "    .dataframe tbody tr th:only-of-type {\n",
       "        vertical-align: middle;\n",
       "    }\n",
       "\n",
       "    .dataframe tbody tr th {\n",
       "        vertical-align: top;\n",
       "    }\n",
       "\n",
       "    .dataframe thead th {\n",
       "        text-align: right;\n",
       "    }\n",
       "</style>\n",
       "<table border=\"1\" class=\"dataframe\">\n",
       "  <thead>\n",
       "    <tr style=\"text-align: right;\">\n",
       "      <th></th>\n",
       "      <th>location</th>\n",
       "      <th>date</th>\n",
       "      <th>fatalities</th>\n",
       "      <th>injured</th>\n",
       "      <th>total_victims</th>\n",
       "      <th>location.1</th>\n",
       "      <th>age_of_shooter</th>\n",
       "      <th>prior_signs_mental_health_issues</th>\n",
       "      <th>weapons_obtained_legally</th>\n",
       "      <th>weapon_type</th>\n",
       "      <th>race</th>\n",
       "      <th>gender</th>\n",
       "      <th>type</th>\n",
       "    </tr>\n",
       "  </thead>\n",
       "  <tbody>\n",
       "    <tr>\n",
       "      <td>1</td>\n",
       "      <td>Buffalo, New York</td>\n",
       "      <td>2022-05-14</td>\n",
       "      <td>10</td>\n",
       "      <td>3</td>\n",
       "      <td>3</td>\n",
       "      <td>workplace</td>\n",
       "      <td>18</td>\n",
       "      <td>yes</td>\n",
       "      <td>yes</td>\n",
       "      <td>semiautomatic rifle</td>\n",
       "      <td>White</td>\n",
       "      <td>M</td>\n",
       "      <td>Mass</td>\n",
       "    </tr>\n",
       "    <tr>\n",
       "      <td>3</td>\n",
       "      <td>Oxford, Michigan</td>\n",
       "      <td>2021-11-30</td>\n",
       "      <td>4</td>\n",
       "      <td>7</td>\n",
       "      <td>7</td>\n",
       "      <td>School</td>\n",
       "      <td>15</td>\n",
       "      <td>Unclear</td>\n",
       "      <td>Unclear</td>\n",
       "      <td>semiautomatic handgun</td>\n",
       "      <td>Unclear</td>\n",
       "      <td>M</td>\n",
       "      <td>Mass</td>\n",
       "    </tr>\n",
       "    <tr>\n",
       "      <td>4</td>\n",
       "      <td>San Jose, California</td>\n",
       "      <td>2021-05-26</td>\n",
       "      <td>9</td>\n",
       "      <td>0</td>\n",
       "      <td>0</td>\n",
       "      <td>Workplace</td>\n",
       "      <td>57</td>\n",
       "      <td>yes</td>\n",
       "      <td>Unclear</td>\n",
       "      <td>semiautomatic handguns</td>\n",
       "      <td>Unclear</td>\n",
       "      <td>M</td>\n",
       "      <td>Mass</td>\n",
       "    </tr>\n",
       "    <tr>\n",
       "      <td>5</td>\n",
       "      <td>Indianapolis, Indiana</td>\n",
       "      <td>2021-04-15</td>\n",
       "      <td>8</td>\n",
       "      <td>7</td>\n",
       "      <td>7</td>\n",
       "      <td>Workplace</td>\n",
       "      <td>19</td>\n",
       "      <td>yes</td>\n",
       "      <td>yes</td>\n",
       "      <td>semiautomatic rifle</td>\n",
       "      <td>White</td>\n",
       "      <td>M</td>\n",
       "      <td>Mass</td>\n",
       "    </tr>\n",
       "    <tr>\n",
       "      <td>7</td>\n",
       "      <td>Boulder, Colorado</td>\n",
       "      <td>2021-03-22</td>\n",
       "      <td>10</td>\n",
       "      <td>0</td>\n",
       "      <td>0</td>\n",
       "      <td>Workplace</td>\n",
       "      <td>21</td>\n",
       "      <td>yes</td>\n",
       "      <td>Yes</td>\n",
       "      <td>semiautomatic rifle, semiautomatic handgun; ta...</td>\n",
       "      <td>Unclear</td>\n",
       "      <td>M</td>\n",
       "      <td>Mass</td>\n",
       "    </tr>\n",
       "    <tr>\n",
       "      <td>...</td>\n",
       "      <td>...</td>\n",
       "      <td>...</td>\n",
       "      <td>...</td>\n",
       "      <td>...</td>\n",
       "      <td>...</td>\n",
       "      <td>...</td>\n",
       "      <td>...</td>\n",
       "      <td>...</td>\n",
       "      <td>...</td>\n",
       "      <td>...</td>\n",
       "      <td>...</td>\n",
       "      <td>...</td>\n",
       "      <td>...</td>\n",
       "    </tr>\n",
       "    <tr>\n",
       "      <td>123</td>\n",
       "      <td>Palm Bay, Florida</td>\n",
       "      <td>1987-04-23</td>\n",
       "      <td>6</td>\n",
       "      <td>14</td>\n",
       "      <td>14</td>\n",
       "      <td>Other</td>\n",
       "      <td>59</td>\n",
       "      <td>Yes</td>\n",
       "      <td>Yes</td>\n",
       "      <td>One rifle, one revolver, one shotgun</td>\n",
       "      <td>white</td>\n",
       "      <td>Male</td>\n",
       "      <td>Spree</td>\n",
       "    </tr>\n",
       "    <tr>\n",
       "      <td>124</td>\n",
       "      <td>Edmond, Oklahoma</td>\n",
       "      <td>1986-08-20</td>\n",
       "      <td>15</td>\n",
       "      <td>6</td>\n",
       "      <td>6</td>\n",
       "      <td>Workplace</td>\n",
       "      <td>44</td>\n",
       "      <td>Unclear</td>\n",
       "      <td>Yes</td>\n",
       "      <td>Three semiautomatic handguns</td>\n",
       "      <td>white</td>\n",
       "      <td>Male</td>\n",
       "      <td>Mass</td>\n",
       "    </tr>\n",
       "    <tr>\n",
       "      <td>125</td>\n",
       "      <td>San Ysidro, California</td>\n",
       "      <td>1984-07-18</td>\n",
       "      <td>22</td>\n",
       "      <td>19</td>\n",
       "      <td>19</td>\n",
       "      <td>Other</td>\n",
       "      <td>41</td>\n",
       "      <td>Yes</td>\n",
       "      <td>Yes</td>\n",
       "      <td>One semiautomatic handgun, one rifle (assault)...</td>\n",
       "      <td>white</td>\n",
       "      <td>Male</td>\n",
       "      <td>Mass</td>\n",
       "    </tr>\n",
       "    <tr>\n",
       "      <td>126</td>\n",
       "      <td>Dallas, Texas</td>\n",
       "      <td>1984-06-29</td>\n",
       "      <td>6</td>\n",
       "      <td>1</td>\n",
       "      <td>1</td>\n",
       "      <td>Other</td>\n",
       "      <td>39</td>\n",
       "      <td>Yes</td>\n",
       "      <td>No</td>\n",
       "      <td>One semiautomatic handgun</td>\n",
       "      <td>white</td>\n",
       "      <td>Male</td>\n",
       "      <td>Mass</td>\n",
       "    </tr>\n",
       "    <tr>\n",
       "      <td>127</td>\n",
       "      <td>Miami, Florida</td>\n",
       "      <td>1982-08-20</td>\n",
       "      <td>8</td>\n",
       "      <td>3</td>\n",
       "      <td>3</td>\n",
       "      <td>Other</td>\n",
       "      <td>51</td>\n",
       "      <td>Yes</td>\n",
       "      <td>Yes</td>\n",
       "      <td>One shotgun</td>\n",
       "      <td>white</td>\n",
       "      <td>Male</td>\n",
       "      <td>Mass</td>\n",
       "    </tr>\n",
       "  </tbody>\n",
       "</table>\n",
       "<p>123 rows × 13 columns</p>\n",
       "</div>"
      ],
      "text/plain": [
       "                   location       date  fatalities  injured  total_victims  \\\n",
       "1         Buffalo, New York 2022-05-14          10        3              3   \n",
       "3          Oxford, Michigan 2021-11-30           4        7              7   \n",
       "4      San Jose, California 2021-05-26           9        0              0   \n",
       "5     Indianapolis, Indiana 2021-04-15           8        7              7   \n",
       "7         Boulder, Colorado 2021-03-22          10        0              0   \n",
       "..                      ...        ...         ...      ...            ...   \n",
       "123       Palm Bay, Florida 1987-04-23           6       14             14   \n",
       "124        Edmond, Oklahoma 1986-08-20          15        6              6   \n",
       "125  San Ysidro, California 1984-07-18          22       19             19   \n",
       "126           Dallas, Texas 1984-06-29           6        1              1   \n",
       "127          Miami, Florida 1982-08-20           8        3              3   \n",
       "\n",
       "    location.1  age_of_shooter prior_signs_mental_health_issues  \\\n",
       "1    workplace              18                              yes   \n",
       "3       School              15                          Unclear   \n",
       "4    Workplace              57                              yes   \n",
       "5    Workplace              19                              yes   \n",
       "7    Workplace              21                              yes   \n",
       "..         ...             ...                              ...   \n",
       "123      Other              59                              Yes   \n",
       "124  Workplace              44                         Unclear    \n",
       "125      Other              41                              Yes   \n",
       "126      Other              39                              Yes   \n",
       "127      Other              51                              Yes   \n",
       "\n",
       "    weapons_obtained_legally  \\\n",
       "1                        yes   \n",
       "3                    Unclear   \n",
       "4                    Unclear   \n",
       "5                        yes   \n",
       "7                        Yes   \n",
       "..                       ...   \n",
       "123                      Yes   \n",
       "124                      Yes   \n",
       "125                      Yes   \n",
       "126                       No   \n",
       "127                      Yes   \n",
       "\n",
       "                                           weapon_type     race gender   type  \n",
       "1                                  semiautomatic rifle    White      M   Mass  \n",
       "3                                semiautomatic handgun  Unclear      M   Mass  \n",
       "4                               semiautomatic handguns  Unclear      M   Mass  \n",
       "5                                  semiautomatic rifle    White      M   Mass  \n",
       "7    semiautomatic rifle, semiautomatic handgun; ta...  Unclear      M   Mass  \n",
       "..                                                 ...      ...    ...    ...  \n",
       "123               One rifle, one revolver, one shotgun    white   Male  Spree  \n",
       "124                       Three semiautomatic handguns    white   Male   Mass  \n",
       "125  One semiautomatic handgun, one rifle (assault)...    white   Male   Mass  \n",
       "126                          One semiautomatic handgun    white   Male   Mass  \n",
       "127                                        One shotgun    white   Male   Mass  \n",
       "\n",
       "[123 rows x 13 columns]"
      ]
     },
     "execution_count": 912,
     "metadata": {},
     "output_type": "execute_result"
    }
   ],
   "source": [
    "new_df.dropna(subset=[\"injured\",\"total_victims\",\"age_of_shooter\"], inplace= True)\n",
    "new_df"
   ]
  },
  {
   "cell_type": "markdown",
   "metadata": {},
   "source": [
    "## Filling null "
   ]
  },
  {
   "cell_type": "code",
   "execution_count": 913,
   "metadata": {},
   "outputs": [],
   "source": [
    "new_df.fillna(\"Unclear\", inplace= True)"
   ]
  },
  {
   "cell_type": "code",
   "execution_count": 914,
   "metadata": {},
   "outputs": [
    {
     "data": {
      "text/html": [
       "<div>\n",
       "<style scoped>\n",
       "    .dataframe tbody tr th:only-of-type {\n",
       "        vertical-align: middle;\n",
       "    }\n",
       "\n",
       "    .dataframe tbody tr th {\n",
       "        vertical-align: top;\n",
       "    }\n",
       "\n",
       "    .dataframe thead th {\n",
       "        text-align: right;\n",
       "    }\n",
       "</style>\n",
       "<table border=\"1\" class=\"dataframe\">\n",
       "  <thead>\n",
       "    <tr style=\"text-align: right;\">\n",
       "      <th></th>\n",
       "      <th>location</th>\n",
       "      <th>date</th>\n",
       "      <th>fatalities</th>\n",
       "      <th>injured</th>\n",
       "      <th>total_victims</th>\n",
       "      <th>location.1</th>\n",
       "      <th>age_of_shooter</th>\n",
       "      <th>prior_signs_mental_health_issues</th>\n",
       "      <th>weapons_obtained_legally</th>\n",
       "      <th>weapon_type</th>\n",
       "      <th>race</th>\n",
       "      <th>gender</th>\n",
       "      <th>type</th>\n",
       "    </tr>\n",
       "  </thead>\n",
       "  <tbody>\n",
       "    <tr>\n",
       "      <td>1</td>\n",
       "      <td>Buffalo, New York</td>\n",
       "      <td>2022-05-14</td>\n",
       "      <td>10</td>\n",
       "      <td>3</td>\n",
       "      <td>3</td>\n",
       "      <td>workplace</td>\n",
       "      <td>18</td>\n",
       "      <td>yes</td>\n",
       "      <td>yes</td>\n",
       "      <td>semiautomatic rifle</td>\n",
       "      <td>White</td>\n",
       "      <td>M</td>\n",
       "      <td>Mass</td>\n",
       "    </tr>\n",
       "    <tr>\n",
       "      <td>3</td>\n",
       "      <td>Oxford, Michigan</td>\n",
       "      <td>2021-11-30</td>\n",
       "      <td>4</td>\n",
       "      <td>7</td>\n",
       "      <td>7</td>\n",
       "      <td>School</td>\n",
       "      <td>15</td>\n",
       "      <td>Unclear</td>\n",
       "      <td>Unclear</td>\n",
       "      <td>semiautomatic handgun</td>\n",
       "      <td>Unclear</td>\n",
       "      <td>M</td>\n",
       "      <td>Mass</td>\n",
       "    </tr>\n",
       "    <tr>\n",
       "      <td>4</td>\n",
       "      <td>San Jose, California</td>\n",
       "      <td>2021-05-26</td>\n",
       "      <td>9</td>\n",
       "      <td>0</td>\n",
       "      <td>0</td>\n",
       "      <td>Workplace</td>\n",
       "      <td>57</td>\n",
       "      <td>yes</td>\n",
       "      <td>Unclear</td>\n",
       "      <td>semiautomatic handguns</td>\n",
       "      <td>Unclear</td>\n",
       "      <td>M</td>\n",
       "      <td>Mass</td>\n",
       "    </tr>\n",
       "    <tr>\n",
       "      <td>5</td>\n",
       "      <td>Indianapolis, Indiana</td>\n",
       "      <td>2021-04-15</td>\n",
       "      <td>8</td>\n",
       "      <td>7</td>\n",
       "      <td>7</td>\n",
       "      <td>Workplace</td>\n",
       "      <td>19</td>\n",
       "      <td>yes</td>\n",
       "      <td>yes</td>\n",
       "      <td>semiautomatic rifle</td>\n",
       "      <td>White</td>\n",
       "      <td>M</td>\n",
       "      <td>Mass</td>\n",
       "    </tr>\n",
       "    <tr>\n",
       "      <td>7</td>\n",
       "      <td>Boulder, Colorado</td>\n",
       "      <td>2021-03-22</td>\n",
       "      <td>10</td>\n",
       "      <td>0</td>\n",
       "      <td>0</td>\n",
       "      <td>Workplace</td>\n",
       "      <td>21</td>\n",
       "      <td>yes</td>\n",
       "      <td>Yes</td>\n",
       "      <td>semiautomatic rifle, semiautomatic handgun; ta...</td>\n",
       "      <td>Unclear</td>\n",
       "      <td>M</td>\n",
       "      <td>Mass</td>\n",
       "    </tr>\n",
       "    <tr>\n",
       "      <td>...</td>\n",
       "      <td>...</td>\n",
       "      <td>...</td>\n",
       "      <td>...</td>\n",
       "      <td>...</td>\n",
       "      <td>...</td>\n",
       "      <td>...</td>\n",
       "      <td>...</td>\n",
       "      <td>...</td>\n",
       "      <td>...</td>\n",
       "      <td>...</td>\n",
       "      <td>...</td>\n",
       "      <td>...</td>\n",
       "      <td>...</td>\n",
       "    </tr>\n",
       "    <tr>\n",
       "      <td>123</td>\n",
       "      <td>Palm Bay, Florida</td>\n",
       "      <td>1987-04-23</td>\n",
       "      <td>6</td>\n",
       "      <td>14</td>\n",
       "      <td>14</td>\n",
       "      <td>Other</td>\n",
       "      <td>59</td>\n",
       "      <td>Yes</td>\n",
       "      <td>Yes</td>\n",
       "      <td>One rifle, one revolver, one shotgun</td>\n",
       "      <td>white</td>\n",
       "      <td>Male</td>\n",
       "      <td>Spree</td>\n",
       "    </tr>\n",
       "    <tr>\n",
       "      <td>124</td>\n",
       "      <td>Edmond, Oklahoma</td>\n",
       "      <td>1986-08-20</td>\n",
       "      <td>15</td>\n",
       "      <td>6</td>\n",
       "      <td>6</td>\n",
       "      <td>Workplace</td>\n",
       "      <td>44</td>\n",
       "      <td>Unclear</td>\n",
       "      <td>Yes</td>\n",
       "      <td>Three semiautomatic handguns</td>\n",
       "      <td>white</td>\n",
       "      <td>Male</td>\n",
       "      <td>Mass</td>\n",
       "    </tr>\n",
       "    <tr>\n",
       "      <td>125</td>\n",
       "      <td>San Ysidro, California</td>\n",
       "      <td>1984-07-18</td>\n",
       "      <td>22</td>\n",
       "      <td>19</td>\n",
       "      <td>19</td>\n",
       "      <td>Other</td>\n",
       "      <td>41</td>\n",
       "      <td>Yes</td>\n",
       "      <td>Yes</td>\n",
       "      <td>One semiautomatic handgun, one rifle (assault)...</td>\n",
       "      <td>white</td>\n",
       "      <td>Male</td>\n",
       "      <td>Mass</td>\n",
       "    </tr>\n",
       "    <tr>\n",
       "      <td>126</td>\n",
       "      <td>Dallas, Texas</td>\n",
       "      <td>1984-06-29</td>\n",
       "      <td>6</td>\n",
       "      <td>1</td>\n",
       "      <td>1</td>\n",
       "      <td>Other</td>\n",
       "      <td>39</td>\n",
       "      <td>Yes</td>\n",
       "      <td>No</td>\n",
       "      <td>One semiautomatic handgun</td>\n",
       "      <td>white</td>\n",
       "      <td>Male</td>\n",
       "      <td>Mass</td>\n",
       "    </tr>\n",
       "    <tr>\n",
       "      <td>127</td>\n",
       "      <td>Miami, Florida</td>\n",
       "      <td>1982-08-20</td>\n",
       "      <td>8</td>\n",
       "      <td>3</td>\n",
       "      <td>3</td>\n",
       "      <td>Other</td>\n",
       "      <td>51</td>\n",
       "      <td>Yes</td>\n",
       "      <td>Yes</td>\n",
       "      <td>One shotgun</td>\n",
       "      <td>white</td>\n",
       "      <td>Male</td>\n",
       "      <td>Mass</td>\n",
       "    </tr>\n",
       "  </tbody>\n",
       "</table>\n",
       "<p>123 rows × 13 columns</p>\n",
       "</div>"
      ],
      "text/plain": [
       "                   location       date  fatalities  injured  total_victims  \\\n",
       "1         Buffalo, New York 2022-05-14          10        3              3   \n",
       "3          Oxford, Michigan 2021-11-30           4        7              7   \n",
       "4      San Jose, California 2021-05-26           9        0              0   \n",
       "5     Indianapolis, Indiana 2021-04-15           8        7              7   \n",
       "7         Boulder, Colorado 2021-03-22          10        0              0   \n",
       "..                      ...        ...         ...      ...            ...   \n",
       "123       Palm Bay, Florida 1987-04-23           6       14             14   \n",
       "124        Edmond, Oklahoma 1986-08-20          15        6              6   \n",
       "125  San Ysidro, California 1984-07-18          22       19             19   \n",
       "126           Dallas, Texas 1984-06-29           6        1              1   \n",
       "127          Miami, Florida 1982-08-20           8        3              3   \n",
       "\n",
       "    location.1  age_of_shooter prior_signs_mental_health_issues  \\\n",
       "1    workplace              18                              yes   \n",
       "3       School              15                          Unclear   \n",
       "4    Workplace              57                              yes   \n",
       "5    Workplace              19                              yes   \n",
       "7    Workplace              21                              yes   \n",
       "..         ...             ...                              ...   \n",
       "123      Other              59                              Yes   \n",
       "124  Workplace              44                         Unclear    \n",
       "125      Other              41                              Yes   \n",
       "126      Other              39                              Yes   \n",
       "127      Other              51                              Yes   \n",
       "\n",
       "    weapons_obtained_legally  \\\n",
       "1                        yes   \n",
       "3                    Unclear   \n",
       "4                    Unclear   \n",
       "5                        yes   \n",
       "7                        Yes   \n",
       "..                       ...   \n",
       "123                      Yes   \n",
       "124                      Yes   \n",
       "125                      Yes   \n",
       "126                       No   \n",
       "127                      Yes   \n",
       "\n",
       "                                           weapon_type     race gender   type  \n",
       "1                                  semiautomatic rifle    White      M   Mass  \n",
       "3                                semiautomatic handgun  Unclear      M   Mass  \n",
       "4                               semiautomatic handguns  Unclear      M   Mass  \n",
       "5                                  semiautomatic rifle    White      M   Mass  \n",
       "7    semiautomatic rifle, semiautomatic handgun; ta...  Unclear      M   Mass  \n",
       "..                                                 ...      ...    ...    ...  \n",
       "123               One rifle, one revolver, one shotgun    white   Male  Spree  \n",
       "124                       Three semiautomatic handguns    white   Male   Mass  \n",
       "125  One semiautomatic handgun, one rifle (assault)...    white   Male   Mass  \n",
       "126                          One semiautomatic handgun    white   Male   Mass  \n",
       "127                                        One shotgun    white   Male   Mass  \n",
       "\n",
       "[123 rows x 13 columns]"
      ]
     },
     "execution_count": 914,
     "metadata": {},
     "output_type": "execute_result"
    }
   ],
   "source": [
    "new_df"
   ]
  },
  {
   "cell_type": "markdown",
   "metadata": {},
   "source": [
    "## Totals"
   ]
  },
  {
   "cell_type": "code",
   "execution_count": 915,
   "metadata": {
    "scrolled": false
   },
   "outputs": [
    {
     "data": {
      "text/plain": [
       "1450"
      ]
     },
     "execution_count": 915,
     "metadata": {},
     "output_type": "execute_result"
    }
   ],
   "source": [
    "new_df[\"injured\"].sum()"
   ]
  },
  {
   "cell_type": "code",
   "execution_count": 916,
   "metadata": {},
   "outputs": [
    {
     "data": {
      "text/plain": [
       "999"
      ]
     },
     "execution_count": 916,
     "metadata": {},
     "output_type": "execute_result"
    }
   ],
   "source": [
    "new_df[\"fatalities\"].sum()"
   ]
  },
  {
   "cell_type": "code",
   "execution_count": 917,
   "metadata": {},
   "outputs": [
    {
     "data": {
      "text/plain": [
       "1450"
      ]
     },
     "execution_count": 917,
     "metadata": {},
     "output_type": "execute_result"
    }
   ],
   "source": [
    "new_df[\"total_victims\"].sum()"
   ]
  },
  {
   "cell_type": "markdown",
   "metadata": {},
   "source": [
    "## Transforming columns"
   ]
  },
  {
   "cell_type": "markdown",
   "metadata": {},
   "source": [
    "### Location"
   ]
  },
  {
   "cell_type": "code",
   "execution_count": 918,
   "metadata": {
    "scrolled": true
   },
   "outputs": [
    {
     "data": {
      "text/plain": [
       "Other          45\n",
       "Workplace      43\n",
       "School         18\n",
       "Religious       6\n",
       "Military        5\n",
       "Other\\n         3\n",
       "Airport         1\n",
       "\\nWorkplace     1\n",
       "workplace       1\n",
       "Name: location.1, dtype: int64"
      ]
     },
     "execution_count": 918,
     "metadata": {},
     "output_type": "execute_result"
    }
   ],
   "source": [
    "new_df[\"location.1\"].value_counts()"
   ]
  },
  {
   "cell_type": "code",
   "execution_count": 919,
   "metadata": {},
   "outputs": [
    {
     "data": {
      "text/html": [
       "<div>\n",
       "<style scoped>\n",
       "    .dataframe tbody tr th:only-of-type {\n",
       "        vertical-align: middle;\n",
       "    }\n",
       "\n",
       "    .dataframe tbody tr th {\n",
       "        vertical-align: top;\n",
       "    }\n",
       "\n",
       "    .dataframe thead th {\n",
       "        text-align: right;\n",
       "    }\n",
       "</style>\n",
       "<table border=\"1\" class=\"dataframe\">\n",
       "  <thead>\n",
       "    <tr style=\"text-align: right;\">\n",
       "      <th></th>\n",
       "      <th>location</th>\n",
       "      <th>date</th>\n",
       "      <th>fatalities</th>\n",
       "      <th>injured</th>\n",
       "      <th>total_victims</th>\n",
       "      <th>location.1</th>\n",
       "      <th>age_of_shooter</th>\n",
       "      <th>prior_signs_mental_health_issues</th>\n",
       "      <th>weapons_obtained_legally</th>\n",
       "      <th>weapon_type</th>\n",
       "      <th>race</th>\n",
       "      <th>gender</th>\n",
       "      <th>type</th>\n",
       "    </tr>\n",
       "  </thead>\n",
       "  <tbody>\n",
       "    <tr>\n",
       "      <td>1</td>\n",
       "      <td>Buffalo, New York</td>\n",
       "      <td>2022-05-14</td>\n",
       "      <td>10</td>\n",
       "      <td>3</td>\n",
       "      <td>3</td>\n",
       "      <td>workplace</td>\n",
       "      <td>18</td>\n",
       "      <td>yes</td>\n",
       "      <td>yes</td>\n",
       "      <td>semiautomatic rifle</td>\n",
       "      <td>White</td>\n",
       "      <td>M</td>\n",
       "      <td>Mass</td>\n",
       "    </tr>\n",
       "    <tr>\n",
       "      <td>3</td>\n",
       "      <td>Oxford, Michigan</td>\n",
       "      <td>2021-11-30</td>\n",
       "      <td>4</td>\n",
       "      <td>7</td>\n",
       "      <td>7</td>\n",
       "      <td>School</td>\n",
       "      <td>15</td>\n",
       "      <td>Unclear</td>\n",
       "      <td>Unclear</td>\n",
       "      <td>semiautomatic handgun</td>\n",
       "      <td>Unclear</td>\n",
       "      <td>M</td>\n",
       "      <td>Mass</td>\n",
       "    </tr>\n",
       "    <tr>\n",
       "      <td>4</td>\n",
       "      <td>San Jose, California</td>\n",
       "      <td>2021-05-26</td>\n",
       "      <td>9</td>\n",
       "      <td>0</td>\n",
       "      <td>0</td>\n",
       "      <td>Workplace</td>\n",
       "      <td>57</td>\n",
       "      <td>yes</td>\n",
       "      <td>Unclear</td>\n",
       "      <td>semiautomatic handguns</td>\n",
       "      <td>Unclear</td>\n",
       "      <td>M</td>\n",
       "      <td>Mass</td>\n",
       "    </tr>\n",
       "    <tr>\n",
       "      <td>5</td>\n",
       "      <td>Indianapolis, Indiana</td>\n",
       "      <td>2021-04-15</td>\n",
       "      <td>8</td>\n",
       "      <td>7</td>\n",
       "      <td>7</td>\n",
       "      <td>Workplace</td>\n",
       "      <td>19</td>\n",
       "      <td>yes</td>\n",
       "      <td>yes</td>\n",
       "      <td>semiautomatic rifle</td>\n",
       "      <td>White</td>\n",
       "      <td>M</td>\n",
       "      <td>Mass</td>\n",
       "    </tr>\n",
       "    <tr>\n",
       "      <td>7</td>\n",
       "      <td>Boulder, Colorado</td>\n",
       "      <td>2021-03-22</td>\n",
       "      <td>10</td>\n",
       "      <td>0</td>\n",
       "      <td>0</td>\n",
       "      <td>Workplace</td>\n",
       "      <td>21</td>\n",
       "      <td>yes</td>\n",
       "      <td>Yes</td>\n",
       "      <td>semiautomatic rifle, semiautomatic handgun; ta...</td>\n",
       "      <td>Unclear</td>\n",
       "      <td>M</td>\n",
       "      <td>Mass</td>\n",
       "    </tr>\n",
       "  </tbody>\n",
       "</table>\n",
       "</div>"
      ],
      "text/plain": [
       "                location       date  fatalities  injured  total_victims  \\\n",
       "1      Buffalo, New York 2022-05-14          10        3              3   \n",
       "3       Oxford, Michigan 2021-11-30           4        7              7   \n",
       "4   San Jose, California 2021-05-26           9        0              0   \n",
       "5  Indianapolis, Indiana 2021-04-15           8        7              7   \n",
       "7      Boulder, Colorado 2021-03-22          10        0              0   \n",
       "\n",
       "  location.1  age_of_shooter prior_signs_mental_health_issues  \\\n",
       "1  workplace              18                              yes   \n",
       "3     School              15                          Unclear   \n",
       "4  Workplace              57                              yes   \n",
       "5  Workplace              19                              yes   \n",
       "7  Workplace              21                              yes   \n",
       "\n",
       "  weapons_obtained_legally                                        weapon_type  \\\n",
       "1                      yes                                semiautomatic rifle   \n",
       "3                  Unclear                              semiautomatic handgun   \n",
       "4                  Unclear                             semiautomatic handguns   \n",
       "5                      yes                                semiautomatic rifle   \n",
       "7                      Yes  semiautomatic rifle, semiautomatic handgun; ta...   \n",
       "\n",
       "      race gender  type  \n",
       "1    White      M  Mass  \n",
       "3  Unclear      M  Mass  \n",
       "4  Unclear      M  Mass  \n",
       "5    White      M  Mass  \n",
       "7  Unclear      M  Mass  "
      ]
     },
     "execution_count": 919,
     "metadata": {},
     "output_type": "execute_result"
    }
   ],
   "source": [
    "new_df.head()"
   ]
  },
  {
   "cell_type": "code",
   "execution_count": 920,
   "metadata": {},
   "outputs": [],
   "source": [
    "new_df=new_df.replace({'workplace': 'Workplace', \n",
    "                       '\\nWorkplace': 'Workplace',\n",
    "                        'Other\\n' : 'Other'                                 \n",
    "                      })\n"
   ]
  },
  {
   "cell_type": "code",
   "execution_count": 923,
   "metadata": {},
   "outputs": [
    {
     "data": {
      "text/plain": [
       "Other        48\n",
       "Workplace    45\n",
       "School       18\n",
       "Religious     6\n",
       "Military      5\n",
       "Airport       1\n",
       "Name: location.1, dtype: int64"
      ]
     },
     "execution_count": 923,
     "metadata": {},
     "output_type": "execute_result"
    }
   ],
   "source": [
    "new_df[\"location.1\"].value_counts()"
   ]
  },
  {
   "cell_type": "markdown",
   "metadata": {},
   "source": [
    "### Area and States columns"
   ]
  },
  {
   "cell_type": "code",
   "execution_count": 922,
   "metadata": {
    "scrolled": false
   },
   "outputs": [
    {
     "data": {
      "text/html": [
       "<div>\n",
       "<style scoped>\n",
       "    .dataframe tbody tr th:only-of-type {\n",
       "        vertical-align: middle;\n",
       "    }\n",
       "\n",
       "    .dataframe tbody tr th {\n",
       "        vertical-align: top;\n",
       "    }\n",
       "\n",
       "    .dataframe thead th {\n",
       "        text-align: right;\n",
       "    }\n",
       "</style>\n",
       "<table border=\"1\" class=\"dataframe\">\n",
       "  <thead>\n",
       "    <tr style=\"text-align: right;\">\n",
       "      <th></th>\n",
       "      <th>Area</th>\n",
       "      <th>State</th>\n",
       "    </tr>\n",
       "  </thead>\n",
       "  <tbody>\n",
       "    <tr>\n",
       "      <td>1</td>\n",
       "      <td>Buffalo</td>\n",
       "      <td>New York</td>\n",
       "    </tr>\n",
       "    <tr>\n",
       "      <td>3</td>\n",
       "      <td>Oxford</td>\n",
       "      <td>Michigan</td>\n",
       "    </tr>\n",
       "    <tr>\n",
       "      <td>4</td>\n",
       "      <td>San Jose</td>\n",
       "      <td>California</td>\n",
       "    </tr>\n",
       "    <tr>\n",
       "      <td>5</td>\n",
       "      <td>Indianapolis</td>\n",
       "      <td>Indiana</td>\n",
       "    </tr>\n",
       "    <tr>\n",
       "      <td>7</td>\n",
       "      <td>Boulder</td>\n",
       "      <td>Colorado</td>\n",
       "    </tr>\n",
       "  </tbody>\n",
       "</table>\n",
       "</div>"
      ],
      "text/plain": [
       "           Area        State\n",
       "1       Buffalo     New York\n",
       "3        Oxford     Michigan\n",
       "4      San Jose   California\n",
       "5  Indianapolis      Indiana\n",
       "7       Boulder     Colorado"
      ]
     },
     "execution_count": 922,
     "metadata": {},
     "output_type": "execute_result"
    }
   ],
   "source": [
    "split_loc= new_df[\"location\"].str.split(',', expand= True)\n",
    "split_loc.rename(columns= {0:'Area',1:'State'}, inplace= True)\n",
    "split_loc.head()"
   ]
  },
  {
   "cell_type": "markdown",
   "metadata": {},
   "source": [
    "### Total victims column"
   ]
  },
  {
   "cell_type": "code",
   "execution_count": 924,
   "metadata": {
    "scrolled": true
   },
   "outputs": [
    {
     "data": {
      "text/html": [
       "<div>\n",
       "<style scoped>\n",
       "    .dataframe tbody tr th:only-of-type {\n",
       "        vertical-align: middle;\n",
       "    }\n",
       "\n",
       "    .dataframe tbody tr th {\n",
       "        vertical-align: top;\n",
       "    }\n",
       "\n",
       "    .dataframe thead th {\n",
       "        text-align: right;\n",
       "    }\n",
       "</style>\n",
       "<table border=\"1\" class=\"dataframe\">\n",
       "  <thead>\n",
       "    <tr style=\"text-align: right;\">\n",
       "      <th></th>\n",
       "      <th>location</th>\n",
       "      <th>date</th>\n",
       "      <th>fatalities</th>\n",
       "      <th>injured</th>\n",
       "      <th>location.1</th>\n",
       "      <th>age_of_shooter</th>\n",
       "      <th>prior_signs_mental_health_issues</th>\n",
       "      <th>weapons_obtained_legally</th>\n",
       "      <th>weapon_type</th>\n",
       "      <th>race</th>\n",
       "      <th>gender</th>\n",
       "      <th>type</th>\n",
       "      <th>Total_victims</th>\n",
       "    </tr>\n",
       "  </thead>\n",
       "  <tbody>\n",
       "    <tr>\n",
       "      <td>1</td>\n",
       "      <td>Buffalo, New York</td>\n",
       "      <td>2022-05-14</td>\n",
       "      <td>10</td>\n",
       "      <td>3</td>\n",
       "      <td>Workplace</td>\n",
       "      <td>18</td>\n",
       "      <td>yes</td>\n",
       "      <td>yes</td>\n",
       "      <td>semiautomatic rifle</td>\n",
       "      <td>White</td>\n",
       "      <td>M</td>\n",
       "      <td>Mass</td>\n",
       "      <td>13</td>\n",
       "    </tr>\n",
       "    <tr>\n",
       "      <td>3</td>\n",
       "      <td>Oxford, Michigan</td>\n",
       "      <td>2021-11-30</td>\n",
       "      <td>4</td>\n",
       "      <td>7</td>\n",
       "      <td>School</td>\n",
       "      <td>15</td>\n",
       "      <td>Unclear</td>\n",
       "      <td>Unclear</td>\n",
       "      <td>semiautomatic handgun</td>\n",
       "      <td>Unclear</td>\n",
       "      <td>M</td>\n",
       "      <td>Mass</td>\n",
       "      <td>11</td>\n",
       "    </tr>\n",
       "    <tr>\n",
       "      <td>4</td>\n",
       "      <td>San Jose, California</td>\n",
       "      <td>2021-05-26</td>\n",
       "      <td>9</td>\n",
       "      <td>0</td>\n",
       "      <td>Workplace</td>\n",
       "      <td>57</td>\n",
       "      <td>yes</td>\n",
       "      <td>Unclear</td>\n",
       "      <td>semiautomatic handguns</td>\n",
       "      <td>Unclear</td>\n",
       "      <td>M</td>\n",
       "      <td>Mass</td>\n",
       "      <td>9</td>\n",
       "    </tr>\n",
       "    <tr>\n",
       "      <td>5</td>\n",
       "      <td>Indianapolis, Indiana</td>\n",
       "      <td>2021-04-15</td>\n",
       "      <td>8</td>\n",
       "      <td>7</td>\n",
       "      <td>Workplace</td>\n",
       "      <td>19</td>\n",
       "      <td>yes</td>\n",
       "      <td>yes</td>\n",
       "      <td>semiautomatic rifle</td>\n",
       "      <td>White</td>\n",
       "      <td>M</td>\n",
       "      <td>Mass</td>\n",
       "      <td>15</td>\n",
       "    </tr>\n",
       "    <tr>\n",
       "      <td>7</td>\n",
       "      <td>Boulder, Colorado</td>\n",
       "      <td>2021-03-22</td>\n",
       "      <td>10</td>\n",
       "      <td>0</td>\n",
       "      <td>Workplace</td>\n",
       "      <td>21</td>\n",
       "      <td>yes</td>\n",
       "      <td>Yes</td>\n",
       "      <td>semiautomatic rifle, semiautomatic handgun; ta...</td>\n",
       "      <td>Unclear</td>\n",
       "      <td>M</td>\n",
       "      <td>Mass</td>\n",
       "      <td>10</td>\n",
       "    </tr>\n",
       "  </tbody>\n",
       "</table>\n",
       "</div>"
      ],
      "text/plain": [
       "                location       date  fatalities  injured location.1  \\\n",
       "1      Buffalo, New York 2022-05-14          10        3  Workplace   \n",
       "3       Oxford, Michigan 2021-11-30           4        7     School   \n",
       "4   San Jose, California 2021-05-26           9        0  Workplace   \n",
       "5  Indianapolis, Indiana 2021-04-15           8        7  Workplace   \n",
       "7      Boulder, Colorado 2021-03-22          10        0  Workplace   \n",
       "\n",
       "   age_of_shooter prior_signs_mental_health_issues weapons_obtained_legally  \\\n",
       "1              18                              yes                      yes   \n",
       "3              15                          Unclear                  Unclear   \n",
       "4              57                              yes                  Unclear   \n",
       "5              19                              yes                      yes   \n",
       "7              21                              yes                      Yes   \n",
       "\n",
       "                                         weapon_type     race gender  type  \\\n",
       "1                                semiautomatic rifle    White      M  Mass   \n",
       "3                              semiautomatic handgun  Unclear      M  Mass   \n",
       "4                             semiautomatic handguns  Unclear      M  Mass   \n",
       "5                                semiautomatic rifle    White      M  Mass   \n",
       "7  semiautomatic rifle, semiautomatic handgun; ta...  Unclear      M  Mass   \n",
       "\n",
       "   Total_victims  \n",
       "1             13  \n",
       "3             11  \n",
       "4              9  \n",
       "5             15  \n",
       "7             10  "
      ]
     },
     "execution_count": 924,
     "metadata": {},
     "output_type": "execute_result"
    }
   ],
   "source": [
    "new_df[\"Total_victims\"]= new_df[[\"fatalities\",\"injured\"]].sum(axis= 1)\n",
    "new_df.drop(\"total_victims\", axis=1, inplace= True)\n",
    "new_df.head()"
   ]
  },
  {
   "cell_type": "markdown",
   "metadata": {},
   "source": [
    "### Adding Area and State column to df"
   ]
  },
  {
   "cell_type": "code",
   "execution_count": 925,
   "metadata": {
    "scrolled": false
   },
   "outputs": [
    {
     "data": {
      "text/html": [
       "<div>\n",
       "<style scoped>\n",
       "    .dataframe tbody tr th:only-of-type {\n",
       "        vertical-align: middle;\n",
       "    }\n",
       "\n",
       "    .dataframe tbody tr th {\n",
       "        vertical-align: top;\n",
       "    }\n",
       "\n",
       "    .dataframe thead th {\n",
       "        text-align: right;\n",
       "    }\n",
       "</style>\n",
       "<table border=\"1\" class=\"dataframe\">\n",
       "  <thead>\n",
       "    <tr style=\"text-align: right;\">\n",
       "      <th></th>\n",
       "      <th>location</th>\n",
       "      <th>date</th>\n",
       "      <th>fatalities</th>\n",
       "      <th>injured</th>\n",
       "      <th>age_of_shooter</th>\n",
       "      <th>prior_signs_mental_health_issues</th>\n",
       "      <th>weapons_obtained_legally</th>\n",
       "      <th>weapon_type</th>\n",
       "      <th>race</th>\n",
       "      <th>gender</th>\n",
       "      <th>type</th>\n",
       "      <th>Total_victims</th>\n",
       "      <th>Area</th>\n",
       "      <th>State</th>\n",
       "    </tr>\n",
       "  </thead>\n",
       "  <tbody>\n",
       "    <tr>\n",
       "      <td>1</td>\n",
       "      <td>Buffalo, New York</td>\n",
       "      <td>2022-05-14</td>\n",
       "      <td>10</td>\n",
       "      <td>3</td>\n",
       "      <td>18</td>\n",
       "      <td>yes</td>\n",
       "      <td>yes</td>\n",
       "      <td>semiautomatic rifle</td>\n",
       "      <td>White</td>\n",
       "      <td>M</td>\n",
       "      <td>Mass</td>\n",
       "      <td>13</td>\n",
       "      <td>Buffalo</td>\n",
       "      <td>New York</td>\n",
       "    </tr>\n",
       "    <tr>\n",
       "      <td>3</td>\n",
       "      <td>Oxford, Michigan</td>\n",
       "      <td>2021-11-30</td>\n",
       "      <td>4</td>\n",
       "      <td>7</td>\n",
       "      <td>15</td>\n",
       "      <td>Unclear</td>\n",
       "      <td>Unclear</td>\n",
       "      <td>semiautomatic handgun</td>\n",
       "      <td>Unclear</td>\n",
       "      <td>M</td>\n",
       "      <td>Mass</td>\n",
       "      <td>11</td>\n",
       "      <td>Oxford</td>\n",
       "      <td>Michigan</td>\n",
       "    </tr>\n",
       "    <tr>\n",
       "      <td>4</td>\n",
       "      <td>San Jose, California</td>\n",
       "      <td>2021-05-26</td>\n",
       "      <td>9</td>\n",
       "      <td>0</td>\n",
       "      <td>57</td>\n",
       "      <td>yes</td>\n",
       "      <td>Unclear</td>\n",
       "      <td>semiautomatic handguns</td>\n",
       "      <td>Unclear</td>\n",
       "      <td>M</td>\n",
       "      <td>Mass</td>\n",
       "      <td>9</td>\n",
       "      <td>San Jose</td>\n",
       "      <td>California</td>\n",
       "    </tr>\n",
       "    <tr>\n",
       "      <td>5</td>\n",
       "      <td>Indianapolis, Indiana</td>\n",
       "      <td>2021-04-15</td>\n",
       "      <td>8</td>\n",
       "      <td>7</td>\n",
       "      <td>19</td>\n",
       "      <td>yes</td>\n",
       "      <td>yes</td>\n",
       "      <td>semiautomatic rifle</td>\n",
       "      <td>White</td>\n",
       "      <td>M</td>\n",
       "      <td>Mass</td>\n",
       "      <td>15</td>\n",
       "      <td>Indianapolis</td>\n",
       "      <td>Indiana</td>\n",
       "    </tr>\n",
       "    <tr>\n",
       "      <td>7</td>\n",
       "      <td>Boulder, Colorado</td>\n",
       "      <td>2021-03-22</td>\n",
       "      <td>10</td>\n",
       "      <td>0</td>\n",
       "      <td>21</td>\n",
       "      <td>yes</td>\n",
       "      <td>Yes</td>\n",
       "      <td>semiautomatic rifle, semiautomatic handgun; ta...</td>\n",
       "      <td>Unclear</td>\n",
       "      <td>M</td>\n",
       "      <td>Mass</td>\n",
       "      <td>10</td>\n",
       "      <td>Boulder</td>\n",
       "      <td>Colorado</td>\n",
       "    </tr>\n",
       "  </tbody>\n",
       "</table>\n",
       "</div>"
      ],
      "text/plain": [
       "                location       date  fatalities  injured  age_of_shooter  \\\n",
       "1      Buffalo, New York 2022-05-14          10        3              18   \n",
       "3       Oxford, Michigan 2021-11-30           4        7              15   \n",
       "4   San Jose, California 2021-05-26           9        0              57   \n",
       "5  Indianapolis, Indiana 2021-04-15           8        7              19   \n",
       "7      Boulder, Colorado 2021-03-22          10        0              21   \n",
       "\n",
       "  prior_signs_mental_health_issues weapons_obtained_legally  \\\n",
       "1                              yes                      yes   \n",
       "3                          Unclear                  Unclear   \n",
       "4                              yes                  Unclear   \n",
       "5                              yes                      yes   \n",
       "7                              yes                      Yes   \n",
       "\n",
       "                                         weapon_type     race gender  type  \\\n",
       "1                                semiautomatic rifle    White      M  Mass   \n",
       "3                              semiautomatic handgun  Unclear      M  Mass   \n",
       "4                             semiautomatic handguns  Unclear      M  Mass   \n",
       "5                                semiautomatic rifle    White      M  Mass   \n",
       "7  semiautomatic rifle, semiautomatic handgun; ta...  Unclear      M  Mass   \n",
       "\n",
       "   Total_victims          Area        State  \n",
       "1             13       Buffalo     New York  \n",
       "3             11        Oxford     Michigan  \n",
       "4              9      San Jose   California  \n",
       "5             15  Indianapolis      Indiana  \n",
       "7             10       Boulder     Colorado  "
      ]
     },
     "execution_count": 925,
     "metadata": {},
     "output_type": "execute_result"
    }
   ],
   "source": [
    "new_df[[\"Area\",\"State\"]]= split_loc\n",
    "new_df.drop(\"location.1\", axis= 1, inplace= True)\n",
    "new_df.head()"
   ]
  },
  {
   "cell_type": "markdown",
   "metadata": {},
   "source": [
    "### Extracting Year, Months and Date columns"
   ]
  },
  {
   "cell_type": "code",
   "execution_count": 926,
   "metadata": {
    "scrolled": false
   },
   "outputs": [
    {
     "data": {
      "text/html": [
       "<div>\n",
       "<style scoped>\n",
       "    .dataframe tbody tr th:only-of-type {\n",
       "        vertical-align: middle;\n",
       "    }\n",
       "\n",
       "    .dataframe tbody tr th {\n",
       "        vertical-align: top;\n",
       "    }\n",
       "\n",
       "    .dataframe thead th {\n",
       "        text-align: right;\n",
       "    }\n",
       "</style>\n",
       "<table border=\"1\" class=\"dataframe\">\n",
       "  <thead>\n",
       "    <tr style=\"text-align: right;\">\n",
       "      <th></th>\n",
       "      <th>location</th>\n",
       "      <th>date</th>\n",
       "      <th>fatalities</th>\n",
       "      <th>injured</th>\n",
       "      <th>age_of_shooter</th>\n",
       "      <th>prior_signs_mental_health_issues</th>\n",
       "      <th>weapons_obtained_legally</th>\n",
       "      <th>weapon_type</th>\n",
       "      <th>race</th>\n",
       "      <th>gender</th>\n",
       "      <th>type</th>\n",
       "      <th>Total_victims</th>\n",
       "      <th>Area</th>\n",
       "      <th>State</th>\n",
       "      <th>Year</th>\n",
       "      <th>Date</th>\n",
       "      <th>Month</th>\n",
       "    </tr>\n",
       "  </thead>\n",
       "  <tbody>\n",
       "    <tr>\n",
       "      <td>1</td>\n",
       "      <td>Buffalo, New York</td>\n",
       "      <td>2022-05-14</td>\n",
       "      <td>10</td>\n",
       "      <td>3</td>\n",
       "      <td>18</td>\n",
       "      <td>yes</td>\n",
       "      <td>yes</td>\n",
       "      <td>semiautomatic rifle</td>\n",
       "      <td>White</td>\n",
       "      <td>M</td>\n",
       "      <td>Mass</td>\n",
       "      <td>13</td>\n",
       "      <td>Buffalo</td>\n",
       "      <td>New York</td>\n",
       "      <td>2022</td>\n",
       "      <td>14</td>\n",
       "      <td>May</td>\n",
       "    </tr>\n",
       "    <tr>\n",
       "      <td>3</td>\n",
       "      <td>Oxford, Michigan</td>\n",
       "      <td>2021-11-30</td>\n",
       "      <td>4</td>\n",
       "      <td>7</td>\n",
       "      <td>15</td>\n",
       "      <td>Unclear</td>\n",
       "      <td>Unclear</td>\n",
       "      <td>semiautomatic handgun</td>\n",
       "      <td>Unclear</td>\n",
       "      <td>M</td>\n",
       "      <td>Mass</td>\n",
       "      <td>11</td>\n",
       "      <td>Oxford</td>\n",
       "      <td>Michigan</td>\n",
       "      <td>2021</td>\n",
       "      <td>30</td>\n",
       "      <td>Nov</td>\n",
       "    </tr>\n",
       "    <tr>\n",
       "      <td>4</td>\n",
       "      <td>San Jose, California</td>\n",
       "      <td>2021-05-26</td>\n",
       "      <td>9</td>\n",
       "      <td>0</td>\n",
       "      <td>57</td>\n",
       "      <td>yes</td>\n",
       "      <td>Unclear</td>\n",
       "      <td>semiautomatic handguns</td>\n",
       "      <td>Unclear</td>\n",
       "      <td>M</td>\n",
       "      <td>Mass</td>\n",
       "      <td>9</td>\n",
       "      <td>San Jose</td>\n",
       "      <td>California</td>\n",
       "      <td>2021</td>\n",
       "      <td>26</td>\n",
       "      <td>May</td>\n",
       "    </tr>\n",
       "    <tr>\n",
       "      <td>5</td>\n",
       "      <td>Indianapolis, Indiana</td>\n",
       "      <td>2021-04-15</td>\n",
       "      <td>8</td>\n",
       "      <td>7</td>\n",
       "      <td>19</td>\n",
       "      <td>yes</td>\n",
       "      <td>yes</td>\n",
       "      <td>semiautomatic rifle</td>\n",
       "      <td>White</td>\n",
       "      <td>M</td>\n",
       "      <td>Mass</td>\n",
       "      <td>15</td>\n",
       "      <td>Indianapolis</td>\n",
       "      <td>Indiana</td>\n",
       "      <td>2021</td>\n",
       "      <td>15</td>\n",
       "      <td>Apr</td>\n",
       "    </tr>\n",
       "    <tr>\n",
       "      <td>7</td>\n",
       "      <td>Boulder, Colorado</td>\n",
       "      <td>2021-03-22</td>\n",
       "      <td>10</td>\n",
       "      <td>0</td>\n",
       "      <td>21</td>\n",
       "      <td>yes</td>\n",
       "      <td>Yes</td>\n",
       "      <td>semiautomatic rifle, semiautomatic handgun; ta...</td>\n",
       "      <td>Unclear</td>\n",
       "      <td>M</td>\n",
       "      <td>Mass</td>\n",
       "      <td>10</td>\n",
       "      <td>Boulder</td>\n",
       "      <td>Colorado</td>\n",
       "      <td>2021</td>\n",
       "      <td>22</td>\n",
       "      <td>Mar</td>\n",
       "    </tr>\n",
       "  </tbody>\n",
       "</table>\n",
       "</div>"
      ],
      "text/plain": [
       "                location       date  fatalities  injured  age_of_shooter  \\\n",
       "1      Buffalo, New York 2022-05-14          10        3              18   \n",
       "3       Oxford, Michigan 2021-11-30           4        7              15   \n",
       "4   San Jose, California 2021-05-26           9        0              57   \n",
       "5  Indianapolis, Indiana 2021-04-15           8        7              19   \n",
       "7      Boulder, Colorado 2021-03-22          10        0              21   \n",
       "\n",
       "  prior_signs_mental_health_issues weapons_obtained_legally  \\\n",
       "1                              yes                      yes   \n",
       "3                          Unclear                  Unclear   \n",
       "4                              yes                  Unclear   \n",
       "5                              yes                      yes   \n",
       "7                              yes                      Yes   \n",
       "\n",
       "                                         weapon_type     race gender  type  \\\n",
       "1                                semiautomatic rifle    White      M  Mass   \n",
       "3                              semiautomatic handgun  Unclear      M  Mass   \n",
       "4                             semiautomatic handguns  Unclear      M  Mass   \n",
       "5                                semiautomatic rifle    White      M  Mass   \n",
       "7  semiautomatic rifle, semiautomatic handgun; ta...  Unclear      M  Mass   \n",
       "\n",
       "   Total_victims          Area        State  Year  Date Month  \n",
       "1             13       Buffalo     New York  2022    14   May  \n",
       "3             11        Oxford     Michigan  2021    30   Nov  \n",
       "4              9      San Jose   California  2021    26   May  \n",
       "5             15  Indianapolis      Indiana  2021    15   Apr  \n",
       "7             10       Boulder     Colorado  2021    22   Mar  "
      ]
     },
     "execution_count": 926,
     "metadata": {},
     "output_type": "execute_result"
    }
   ],
   "source": [
    "new_df[\"Year\"]= new_df[\"date\"].dt.year\n",
    "new_df[\"Date\"]= new_df[\"date\"].dt.day\n",
    "new_df[\"Month\"]= new_df[\"date\"].dt.strftime('%b')\n",
    "new_df.head()"
   ]
  },
  {
   "cell_type": "markdown",
   "metadata": {},
   "source": [
    "## Visualizing Incidents by Year"
   ]
  },
  {
   "cell_type": "code",
   "execution_count": 988,
   "metadata": {
    "scrolled": true
   },
   "outputs": [
    {
     "data": {
      "text/plain": [
       "<function matplotlib.pyplot.show(*args, **kw)>"
      ]
     },
     "execution_count": 988,
     "metadata": {},
     "output_type": "execute_result"
    },
    {
     "data": {
      "image/png": "[encoded data removed]",
      "text/plain": [
       "<Figure size 1296x360 with 1 Axes>"
      ]
     },
     "metadata": {},
     "output_type": "display_data"
    }
   ],
   "source": [
    "sns.countplot(\"Year\", data=new_df)\n",
    "sns.set(rc={'figure.figsize':(18,5)})\n",
    "plt.ylabel(\"Incidents\")\n",
    "plt.xticks(rotation= 90)\n",
    "plt.show"
   ]
  },
  {
   "cell_type": "code",
   "execution_count": 602,
   "metadata": {
    "scrolled": true
   },
   "outputs": [
    {
     "data": {
      "text/html": [
       "<div>\n",
       "<style scoped>\n",
       "    .dataframe tbody tr th:only-of-type {\n",
       "        vertical-align: middle;\n",
       "    }\n",
       "\n",
       "    .dataframe tbody tr th {\n",
       "        vertical-align: top;\n",
       "    }\n",
       "\n",
       "    .dataframe thead th {\n",
       "        text-align: right;\n",
       "    }\n",
       "</style>\n",
       "<table border=\"1\" class=\"dataframe\">\n",
       "  <thead>\n",
       "    <tr style=\"text-align: right;\">\n",
       "      <th></th>\n",
       "      <th>fatalities</th>\n",
       "      <th>injured</th>\n",
       "      <th>Total_victims</th>\n",
       "    </tr>\n",
       "    <tr>\n",
       "      <th>Year</th>\n",
       "      <th></th>\n",
       "      <th></th>\n",
       "      <th></th>\n",
       "    </tr>\n",
       "  </thead>\n",
       "  <tbody>\n",
       "    <tr>\n",
       "      <td>1982</td>\n",
       "      <td>8</td>\n",
       "      <td>3</td>\n",
       "      <td>11</td>\n",
       "    </tr>\n",
       "    <tr>\n",
       "      <td>1984</td>\n",
       "      <td>28</td>\n",
       "      <td>20</td>\n",
       "      <td>48</td>\n",
       "    </tr>\n",
       "    <tr>\n",
       "      <td>1986</td>\n",
       "      <td>15</td>\n",
       "      <td>6</td>\n",
       "      <td>21</td>\n",
       "    </tr>\n",
       "    <tr>\n",
       "      <td>1987</td>\n",
       "      <td>6</td>\n",
       "      <td>14</td>\n",
       "      <td>20</td>\n",
       "    </tr>\n",
       "    <tr>\n",
       "      <td>1988</td>\n",
       "      <td>7</td>\n",
       "      <td>4</td>\n",
       "      <td>11</td>\n",
       "    </tr>\n",
       "  </tbody>\n",
       "</table>\n",
       "</div>"
      ],
      "text/plain": [
       "      fatalities  injured  Total_victims\n",
       "Year                                    \n",
       "1982           8        3             11\n",
       "1984          28       20             48\n",
       "1986          15        6             21\n",
       "1987           6       14             20\n",
       "1988           7        4             11"
      ]
     },
     "execution_count": 602,
     "metadata": {},
     "output_type": "execute_result"
    }
   ],
   "source": [
    "year_df= new_df.groupby(['Year'])[[\"fatalities\",\"injured\",\"Total_victims\"]].sum()\n",
    "year_df.head()"
   ]
  },
  {
   "cell_type": "markdown",
   "metadata": {},
   "source": [
    "## Visualization of Year"
   ]
  },
  {
   "cell_type": "markdown",
   "metadata": {},
   "source": [
    "### All over"
   ]
  },
  {
   "cell_type": "code",
   "execution_count": 991,
   "metadata": {
    "scrolled": false
   },
   "outputs": [
    {
     "data": {
      "image/png": "[encoded data removed]",
      "text/plain": [
       "<Figure size 936x288 with 1 Axes>"
      ]
     },
     "metadata": {},
     "output_type": "display_data"
    }
   ],
   "source": [
    "plt.plot(year_df.index, year_df.Total_victims)\n",
    "plt.plot(year_df.index, year_df.injured)\n",
    "plt.ylabel(\"Victims\")\n",
    "plt.plot(year_df.index, year_df.fatalities)\n",
    "sns.set(rc={'figure.figsize':(13,4)})"
   ]
  },
  {
   "cell_type": "markdown",
   "metadata": {},
   "source": [
    "## fatalities by Year"
   ]
  },
  {
   "cell_type": "code",
   "execution_count": 677,
   "metadata": {
    "scrolled": true
   },
   "outputs": [
    {
     "data": {
      "text/plain": [
       "<function matplotlib.pyplot.show(*args, **kw)>"
      ]
     },
     "execution_count": 677,
     "metadata": {},
     "output_type": "execute_result"
    },
    {
     "data": {
      "image/png": "[encoded data removed]",
      "text/plain": [
       "<Figure size 1296x360 with 1 Axes>"
      ]
     },
     "metadata": {},
     "output_type": "display_data"
    }
   ],
   "source": [
    "sns.barplot(x= year_df.index, y=year_df.fatalities )\n",
    "sns.set(rc={'figure.figsize':(18,6)})\n",
    "plt.xticks(rotation= 90)\n",
    "plt.show"
   ]
  },
  {
   "cell_type": "markdown",
   "metadata": {},
   "source": [
    "### Injured by Year"
   ]
  },
  {
   "cell_type": "code",
   "execution_count": 992,
   "metadata": {},
   "outputs": [
    {
     "data": {
      "text/plain": [
       "<function matplotlib.pyplot.show(*args, **kw)>"
      ]
     },
     "execution_count": 992,
     "metadata": {},
     "output_type": "execute_result"
    },
    {
     "data": {
      "image/png": "[encoded data removed]",
      "text/plain": [
       "<Figure size 936x288 with 1 Axes>"
      ]
     },
     "metadata": {},
     "output_type": "display_data"
    }
   ],
   "source": [
    "sns.barplot(x= year_df.index, y=year_df.injured )\n",
    "sns.set(rc={'figure.figsize':(18,6)})\n",
    "plt.xticks(rotation= 90)\n",
    "plt.show"
   ]
  },
  {
   "cell_type": "markdown",
   "metadata": {},
   "source": [
    "## Visualization of Date"
   ]
  },
  {
   "cell_type": "code",
   "execution_count": 783,
   "metadata": {},
   "outputs": [
    {
     "data": {
      "text/html": [
       "<div>\n",
       "<style scoped>\n",
       "    .dataframe tbody tr th:only-of-type {\n",
       "        vertical-align: middle;\n",
       "    }\n",
       "\n",
       "    .dataframe tbody tr th {\n",
       "        vertical-align: top;\n",
       "    }\n",
       "\n",
       "    .dataframe thead th {\n",
       "        text-align: right;\n",
       "    }\n",
       "</style>\n",
       "<table border=\"1\" class=\"dataframe\">\n",
       "  <thead>\n",
       "    <tr style=\"text-align: right;\">\n",
       "      <th></th>\n",
       "      <th>fatalities</th>\n",
       "      <th>injured</th>\n",
       "      <th>Total_victims</th>\n",
       "    </tr>\n",
       "    <tr>\n",
       "      <th>Date</th>\n",
       "      <th></th>\n",
       "      <th></th>\n",
       "      <th></th>\n",
       "    </tr>\n",
       "  </thead>\n",
       "  <tbody>\n",
       "    <tr>\n",
       "      <td>1</td>\n",
       "      <td>89</td>\n",
       "      <td>572</td>\n",
       "      <td>661</td>\n",
       "    </tr>\n",
       "    <tr>\n",
       "      <td>2</td>\n",
       "      <td>34</td>\n",
       "      <td>29</td>\n",
       "      <td>63</td>\n",
       "    </tr>\n",
       "    <tr>\n",
       "      <td>3</td>\n",
       "      <td>54</td>\n",
       "      <td>44</td>\n",
       "      <td>98</td>\n",
       "    </tr>\n",
       "    <tr>\n",
       "      <td>4</td>\n",
       "      <td>9</td>\n",
       "      <td>27</td>\n",
       "      <td>36</td>\n",
       "    </tr>\n",
       "    <tr>\n",
       "      <td>5</td>\n",
       "      <td>65</td>\n",
       "      <td>62</td>\n",
       "      <td>127</td>\n",
       "    </tr>\n",
       "  </tbody>\n",
       "</table>\n",
       "</div>"
      ],
      "text/plain": [
       "      fatalities  injured  Total_victims\n",
       "Date                                    \n",
       "1             89      572            661\n",
       "2             34       29             63\n",
       "3             54       44             98\n",
       "4              9       27             36\n",
       "5             65       62            127"
      ]
     },
     "execution_count": 783,
     "metadata": {},
     "output_type": "execute_result"
    }
   ],
   "source": [
    "date_df= new_df.groupby(['Date'])[[\"fatalities\",\"injured\",\"Total_victims\"]].sum()\n",
    "date_df.head()"
   ]
  },
  {
   "cell_type": "markdown",
   "metadata": {},
   "source": [
    "### All over"
   ]
  },
  {
   "cell_type": "code",
   "execution_count": 784,
   "metadata": {
    "scrolled": false
   },
   "outputs": [
    {
     "data": {
      "image/png": "[encoded data removed]",
      "text/plain": [
       "<Figure size 936x288 with 1 Axes>"
      ]
     },
     "metadata": {},
     "output_type": "display_data"
    }
   ],
   "source": [
    "plt.plot(date_df.index, date_df.Total_victims)\n",
    "plt.plot(date_df.index, date_df.injured)\n",
    "plt.plot(date_df.index, date_df.fatalities)\n",
    "sns.set(rc={'figure.figsize':(13,4)})"
   ]
  },
  {
   "cell_type": "markdown",
   "metadata": {},
   "source": [
    "### Fatalities by Date"
   ]
  },
  {
   "cell_type": "code",
   "execution_count": 786,
   "metadata": {},
   "outputs": [
    {
     "data": {
      "image/png": "[encoded data removed]",
      "text/plain": [
       "<Figure size 1296x432 with 1 Axes>"
      ]
     },
     "metadata": {},
     "output_type": "display_data"
    }
   ],
   "source": [
    "sns.barplot(x= date_df.index, y=date_df.fatalities )\n",
    "sns.set(rc={'figure.figsize':(18,6)})"
   ]
  },
  {
   "cell_type": "markdown",
   "metadata": {},
   "source": [
    "### Injured by Date"
   ]
  },
  {
   "cell_type": "code",
   "execution_count": 787,
   "metadata": {
    "scrolled": false
   },
   "outputs": [
    {
     "data": {
      "image/png": "[encoded data removed]",
      "text/plain": [
       "<Figure size 1296x432 with 1 Axes>"
      ]
     },
     "metadata": {},
     "output_type": "display_data"
    }
   ],
   "source": [
    "sns.barplot(x= date_df.index, y=date_df.injured )\n",
    "sns.set(rc={'figure.figsize':(18,6)})"
   ]
  },
  {
   "cell_type": "markdown",
   "metadata": {},
   "source": [
    "## Visualization of Month"
   ]
  },
  {
   "cell_type": "code",
   "execution_count": 811,
   "metadata": {
    "scrolled": true
   },
   "outputs": [
    {
     "data": {
      "text/plain": [
       "Feb    13\n",
       "Nov    12\n",
       "Jun    12\n",
       "Oct    11\n",
       "Apr    11\n",
       "Mar    11\n",
       "Jul    10\n",
       "Sep    10\n",
       "May     9\n",
       "Dec     9\n",
       "Aug     8\n",
       "Jan     7\n",
       "Name: Month, dtype: int64"
      ]
     },
     "execution_count": 811,
     "metadata": {},
     "output_type": "execute_result"
    }
   ],
   "source": [
    "new_df[\"Month\"].value_counts()\n"
   ]
  },
  {
   "cell_type": "markdown",
   "metadata": {},
   "source": [
    "### Incidents by Month"
   ]
  },
  {
   "cell_type": "code",
   "execution_count": 994,
   "metadata": {},
   "outputs": [
    {
     "data": {
      "text/plain": [
       "Text(0, 0.5, 'Incidents')"
      ]
     },
     "execution_count": 994,
     "metadata": {},
     "output_type": "execute_result"
    },
    {
     "data": {
      "image/png": "[encoded data removed]",
      "text/plain": [
       "<Figure size 1296x432 with 1 Axes>"
      ]
     },
     "metadata": {},
     "output_type": "display_data"
    }
   ],
   "source": [
    "sns.countplot(\"Month\", data=new_df,\n",
    "             order= ['Jan','Feb','Mar','Apr','May','Jun','Jul','Aug','Sep','Oct','Nov','Dec'])\n",
    "plt.ylabel(\"Incidents\")"
   ]
  },
  {
   "cell_type": "code",
   "execution_count": 818,
   "metadata": {},
   "outputs": [
    {
     "data": {
      "text/html": [
       "<div>\n",
       "<style scoped>\n",
       "    .dataframe tbody tr th:only-of-type {\n",
       "        vertical-align: middle;\n",
       "    }\n",
       "\n",
       "    .dataframe tbody tr th {\n",
       "        vertical-align: top;\n",
       "    }\n",
       "\n",
       "    .dataframe thead th {\n",
       "        text-align: right;\n",
       "    }\n",
       "</style>\n",
       "<table border=\"1\" class=\"dataframe\">\n",
       "  <thead>\n",
       "    <tr style=\"text-align: right;\">\n",
       "      <th></th>\n",
       "      <th>fatalities</th>\n",
       "      <th>injured</th>\n",
       "      <th>Total_victims</th>\n",
       "    </tr>\n",
       "    <tr>\n",
       "      <th>Month</th>\n",
       "      <th></th>\n",
       "      <th></th>\n",
       "      <th></th>\n",
       "    </tr>\n",
       "  </thead>\n",
       "  <tbody>\n",
       "    <tr>\n",
       "      <td>Apr</td>\n",
       "      <td>101</td>\n",
       "      <td>91</td>\n",
       "      <td>192</td>\n",
       "    </tr>\n",
       "    <tr>\n",
       "      <td>Aug</td>\n",
       "      <td>81</td>\n",
       "      <td>100</td>\n",
       "      <td>181</td>\n",
       "    </tr>\n",
       "    <tr>\n",
       "      <td>Dec</td>\n",
       "      <td>82</td>\n",
       "      <td>59</td>\n",
       "      <td>141</td>\n",
       "    </tr>\n",
       "    <tr>\n",
       "      <td>Feb</td>\n",
       "      <td>80</td>\n",
       "      <td>77</td>\n",
       "      <td>157</td>\n",
       "    </tr>\n",
       "    <tr>\n",
       "      <td>Jan</td>\n",
       "      <td>37</td>\n",
       "      <td>50</td>\n",
       "      <td>87</td>\n",
       "    </tr>\n",
       "    <tr>\n",
       "      <td>Jul</td>\n",
       "      <td>82</td>\n",
       "      <td>144</td>\n",
       "      <td>226</td>\n",
       "    </tr>\n",
       "    <tr>\n",
       "      <td>Jun</td>\n",
       "      <td>110</td>\n",
       "      <td>91</td>\n",
       "      <td>201</td>\n",
       "    </tr>\n",
       "    <tr>\n",
       "      <td>Mar</td>\n",
       "      <td>72</td>\n",
       "      <td>28</td>\n",
       "      <td>100</td>\n",
       "    </tr>\n",
       "    <tr>\n",
       "      <td>May</td>\n",
       "      <td>64</td>\n",
       "      <td>69</td>\n",
       "      <td>133</td>\n",
       "    </tr>\n",
       "    <tr>\n",
       "      <td>Nov</td>\n",
       "      <td>91</td>\n",
       "      <td>106</td>\n",
       "      <td>197</td>\n",
       "    </tr>\n",
       "    <tr>\n",
       "      <td>Oct</td>\n",
       "      <td>138</td>\n",
       "      <td>592</td>\n",
       "      <td>730</td>\n",
       "    </tr>\n",
       "    <tr>\n",
       "      <td>Sep</td>\n",
       "      <td>61</td>\n",
       "      <td>43</td>\n",
       "      <td>104</td>\n",
       "    </tr>\n",
       "  </tbody>\n",
       "</table>\n",
       "</div>"
      ],
      "text/plain": [
       "       fatalities  injured  Total_victims\n",
       "Month                                    \n",
       "Apr           101       91            192\n",
       "Aug            81      100            181\n",
       "Dec            82       59            141\n",
       "Feb            80       77            157\n",
       "Jan            37       50             87\n",
       "Jul            82      144            226\n",
       "Jun           110       91            201\n",
       "Mar            72       28            100\n",
       "May            64       69            133\n",
       "Nov            91      106            197\n",
       "Oct           138      592            730\n",
       "Sep            61       43            104"
      ]
     },
     "execution_count": 818,
     "metadata": {},
     "output_type": "execute_result"
    }
   ],
   "source": [
    "Month_df= new_df.groupby(['Month'])[[\"fatalities\",\"injured\",\"Total_victims\"]].sum()\n",
    "Month_df"
   ]
  },
  {
   "cell_type": "markdown",
   "metadata": {},
   "source": [
    "### All over"
   ]
  },
  {
   "cell_type": "code",
   "execution_count": 816,
   "metadata": {
    "scrolled": true
   },
   "outputs": [
    {
     "data": {
      "image/png": "[encoded data removed]",
      "text/plain": [
       "<Figure size 936x288 with 1 Axes>"
      ]
     },
     "metadata": {},
     "output_type": "display_data"
    }
   ],
   "source": [
    "plt.plot(Month_df.index, Month_df.Total_victims)\n",
    "plt.plot(Month_df.index, Month_df.injured)\n",
    "plt.plot(Month_df.index, Month_df.fatalities)\n",
    "sns.set(rc={'figure.figsize':(13,4)})"
   ]
  },
  {
   "cell_type": "markdown",
   "metadata": {},
   "source": [
    "### Injured by Months"
   ]
  },
  {
   "cell_type": "code",
   "execution_count": 826,
   "metadata": {
    "scrolled": true
   },
   "outputs": [
    {
     "data": {
      "image/png": "[encoded data removed]",
      "text/plain": [
       "<Figure size 1296x432 with 1 Axes>"
      ]
     },
     "metadata": {},
     "output_type": "display_data"
    }
   ],
   "source": [
    "sns.barplot(x= Month_df.index, y=Month_df.injured ,\n",
    "           order= ['Jan','Feb','Mar','Apr','May','Jun','Jul','Aug','Sep','Oct','Nov','Dec'])\n",
    "sns.set(rc={'figure.figsize':(18,6)})"
   ]
  },
  {
   "cell_type": "markdown",
   "metadata": {},
   "source": [
    "### Fatalities by Months"
   ]
  },
  {
   "cell_type": "code",
   "execution_count": 827,
   "metadata": {
    "scrolled": true
   },
   "outputs": [
    {
     "data": {
      "image/png": "[encoded data removed]",
      "text/plain": [
       "<Figure size 1296x432 with 1 Axes>"
      ]
     },
     "metadata": {},
     "output_type": "display_data"
    }
   ],
   "source": [
    "sns.barplot(x= Month_df.index, y=Month_df.fatalities ,\n",
    "           order= ['Jan','Feb','Mar','Apr','May','Jun','Jul','Aug','Sep','Oct','Nov','Dec'])\n",
    "sns.set(rc={'figure.figsize':(18,6)})"
   ]
  },
  {
   "cell_type": "markdown",
   "metadata": {},
   "source": [
    "## Visualization of Location"
   ]
  },
  {
   "cell_type": "code",
   "execution_count": 614,
   "metadata": {
    "scrolled": true
   },
   "outputs": [],
   "source": [
    "new_df.rename(columns={\"location.1\":\"Location\"}, inplace= True)"
   ]
  },
  {
   "cell_type": "code",
   "execution_count": 615,
   "metadata": {
    "scrolled": true
   },
   "outputs": [
    {
     "data": {
      "text/html": [
       "<div>\n",
       "<style scoped>\n",
       "    .dataframe tbody tr th:only-of-type {\n",
       "        vertical-align: middle;\n",
       "    }\n",
       "\n",
       "    .dataframe tbody tr th {\n",
       "        vertical-align: top;\n",
       "    }\n",
       "\n",
       "    .dataframe thead th {\n",
       "        text-align: right;\n",
       "    }\n",
       "</style>\n",
       "<table border=\"1\" class=\"dataframe\">\n",
       "  <thead>\n",
       "    <tr style=\"text-align: right;\">\n",
       "      <th></th>\n",
       "      <th>date</th>\n",
       "      <th>fatalities</th>\n",
       "      <th>injured</th>\n",
       "      <th>Location</th>\n",
       "      <th>age_of_shooter</th>\n",
       "      <th>prior_signs_mental_health_issues</th>\n",
       "      <th>weapons_obtained_legally</th>\n",
       "      <th>weapon_type</th>\n",
       "      <th>race</th>\n",
       "      <th>gender</th>\n",
       "      <th>type</th>\n",
       "      <th>Total_victims</th>\n",
       "      <th>Area</th>\n",
       "      <th>State</th>\n",
       "      <th>Year</th>\n",
       "      <th>Date</th>\n",
       "      <th>Month</th>\n",
       "    </tr>\n",
       "  </thead>\n",
       "  <tbody>\n",
       "    <tr>\n",
       "      <td>1</td>\n",
       "      <td>2022-05-14</td>\n",
       "      <td>10</td>\n",
       "      <td>3</td>\n",
       "      <td>workplace</td>\n",
       "      <td>18</td>\n",
       "      <td>yes</td>\n",
       "      <td>yes</td>\n",
       "      <td>semiautomatic rifle</td>\n",
       "      <td>White</td>\n",
       "      <td>M</td>\n",
       "      <td>Mass</td>\n",
       "      <td>13</td>\n",
       "      <td>Buffalo</td>\n",
       "      <td>New York</td>\n",
       "      <td>2022</td>\n",
       "      <td>14</td>\n",
       "      <td>May</td>\n",
       "    </tr>\n",
       "    <tr>\n",
       "      <td>3</td>\n",
       "      <td>2021-11-30</td>\n",
       "      <td>4</td>\n",
       "      <td>7</td>\n",
       "      <td>School</td>\n",
       "      <td>15</td>\n",
       "      <td>Unclear</td>\n",
       "      <td>Unclear</td>\n",
       "      <td>semiautomatic handgun</td>\n",
       "      <td>Unclear</td>\n",
       "      <td>M</td>\n",
       "      <td>Mass</td>\n",
       "      <td>11</td>\n",
       "      <td>Oxford</td>\n",
       "      <td>Michigan</td>\n",
       "      <td>2021</td>\n",
       "      <td>30</td>\n",
       "      <td>Nov</td>\n",
       "    </tr>\n",
       "    <tr>\n",
       "      <td>4</td>\n",
       "      <td>2021-05-26</td>\n",
       "      <td>9</td>\n",
       "      <td>0</td>\n",
       "      <td>Workplace</td>\n",
       "      <td>57</td>\n",
       "      <td>yes</td>\n",
       "      <td>Unclear</td>\n",
       "      <td>semiautomatic handguns</td>\n",
       "      <td>Unclear</td>\n",
       "      <td>M</td>\n",
       "      <td>Mass</td>\n",
       "      <td>9</td>\n",
       "      <td>San Jose</td>\n",
       "      <td>California</td>\n",
       "      <td>2021</td>\n",
       "      <td>26</td>\n",
       "      <td>May</td>\n",
       "    </tr>\n",
       "    <tr>\n",
       "      <td>5</td>\n",
       "      <td>2021-04-15</td>\n",
       "      <td>8</td>\n",
       "      <td>7</td>\n",
       "      <td>Workplace</td>\n",
       "      <td>19</td>\n",
       "      <td>yes</td>\n",
       "      <td>yes</td>\n",
       "      <td>semiautomatic rifle</td>\n",
       "      <td>White</td>\n",
       "      <td>M</td>\n",
       "      <td>Mass</td>\n",
       "      <td>15</td>\n",
       "      <td>Indianapolis</td>\n",
       "      <td>Indiana</td>\n",
       "      <td>2021</td>\n",
       "      <td>15</td>\n",
       "      <td>Apr</td>\n",
       "    </tr>\n",
       "    <tr>\n",
       "      <td>7</td>\n",
       "      <td>2021-03-22</td>\n",
       "      <td>10</td>\n",
       "      <td>0</td>\n",
       "      <td>Workplace</td>\n",
       "      <td>21</td>\n",
       "      <td>yes</td>\n",
       "      <td>Yes</td>\n",
       "      <td>semiautomatic rifle, semiautomatic handgun; ta...</td>\n",
       "      <td>Unclear</td>\n",
       "      <td>M</td>\n",
       "      <td>Mass</td>\n",
       "      <td>10</td>\n",
       "      <td>Boulder</td>\n",
       "      <td>Colorado</td>\n",
       "      <td>2021</td>\n",
       "      <td>22</td>\n",
       "      <td>Mar</td>\n",
       "    </tr>\n",
       "  </tbody>\n",
       "</table>\n",
       "</div>"
      ],
      "text/plain": [
       "        date  fatalities  injured   Location  age_of_shooter  \\\n",
       "1 2022-05-14          10        3  workplace              18   \n",
       "3 2021-11-30           4        7     School              15   \n",
       "4 2021-05-26           9        0  Workplace              57   \n",
       "5 2021-04-15           8        7  Workplace              19   \n",
       "7 2021-03-22          10        0  Workplace              21   \n",
       "\n",
       "  prior_signs_mental_health_issues weapons_obtained_legally  \\\n",
       "1                              yes                      yes   \n",
       "3                          Unclear                  Unclear   \n",
       "4                              yes                  Unclear   \n",
       "5                              yes                      yes   \n",
       "7                              yes                      Yes   \n",
       "\n",
       "                                         weapon_type     race gender  type  \\\n",
       "1                                semiautomatic rifle    White      M  Mass   \n",
       "3                              semiautomatic handgun  Unclear      M  Mass   \n",
       "4                             semiautomatic handguns  Unclear      M  Mass   \n",
       "5                                semiautomatic rifle    White      M  Mass   \n",
       "7  semiautomatic rifle, semiautomatic handgun; ta...  Unclear      M  Mass   \n",
       "\n",
       "   Total_victims          Area        State  Year  Date Month  \n",
       "1             13       Buffalo     New York  2022    14   May  \n",
       "3             11        Oxford     Michigan  2021    30   Nov  \n",
       "4              9      San Jose   California  2021    26   May  \n",
       "5             15  Indianapolis      Indiana  2021    15   Apr  \n",
       "7             10       Boulder     Colorado  2021    22   Mar  "
      ]
     },
     "execution_count": 615,
     "metadata": {},
     "output_type": "execute_result"
    }
   ],
   "source": [
    "new_df.head()"
   ]
  },
  {
   "cell_type": "code",
   "execution_count": 647,
   "metadata": {},
   "outputs": [
    {
     "data": {
      "text/plain": [
       "Other        48\n",
       "Workplace    45\n",
       "School       18\n",
       "Religious     6\n",
       "Military      5\n",
       "Airport       1\n",
       "Name: Location, dtype: int64"
      ]
     },
     "execution_count": 647,
     "metadata": {},
     "output_type": "execute_result"
    }
   ],
   "source": [
    " new_df.Location.value_counts()\n"
   ]
  },
  {
   "cell_type": "markdown",
   "metadata": {},
   "source": [
    "### Incidents by location"
   ]
  },
  {
   "cell_type": "code",
   "execution_count": 658,
   "metadata": {
    "scrolled": true
   },
   "outputs": [
    {
     "data": {
      "image/png": "[encoded data removed]",
      "text/plain": [
       "<Figure size 720x360 with 1 Axes>"
      ]
     },
     "metadata": {},
     "output_type": "display_data"
    }
   ],
   "source": [
    "sns.countplot(\"Location\",data= new_df)\n",
    "sns.set(rc={'figure.figsize':(10,5)})"
   ]
  },
  {
   "cell_type": "code",
   "execution_count": 699,
   "metadata": {
    "scrolled": true
   },
   "outputs": [
    {
     "data": {
      "text/html": [
       "<div>\n",
       "<style scoped>\n",
       "    .dataframe tbody tr th:only-of-type {\n",
       "        vertical-align: middle;\n",
       "    }\n",
       "\n",
       "    .dataframe tbody tr th {\n",
       "        vertical-align: top;\n",
       "    }\n",
       "\n",
       "    .dataframe thead th {\n",
       "        text-align: right;\n",
       "    }\n",
       "</style>\n",
       "<table border=\"1\" class=\"dataframe\">\n",
       "  <thead>\n",
       "    <tr style=\"text-align: right;\">\n",
       "      <th></th>\n",
       "      <th>fatalities</th>\n",
       "      <th>injured</th>\n",
       "      <th>Total_victims</th>\n",
       "    </tr>\n",
       "    <tr>\n",
       "      <th>Location</th>\n",
       "      <th></th>\n",
       "      <th></th>\n",
       "      <th></th>\n",
       "    </tr>\n",
       "  </thead>\n",
       "  <tbody>\n",
       "    <tr>\n",
       "      <td>Other</td>\n",
       "      <td>419</td>\n",
       "      <td>939</td>\n",
       "      <td>1358</td>\n",
       "    </tr>\n",
       "    <tr>\n",
       "      <td>Workplace</td>\n",
       "      <td>293</td>\n",
       "      <td>170</td>\n",
       "      <td>463</td>\n",
       "    </tr>\n",
       "    <tr>\n",
       "      <td>School</td>\n",
       "      <td>176</td>\n",
       "      <td>218</td>\n",
       "      <td>394</td>\n",
       "    </tr>\n",
       "    <tr>\n",
       "      <td>Military</td>\n",
       "      <td>38</td>\n",
       "      <td>76</td>\n",
       "      <td>114</td>\n",
       "    </tr>\n",
       "    <tr>\n",
       "      <td>Religious</td>\n",
       "      <td>68</td>\n",
       "      <td>41</td>\n",
       "      <td>109</td>\n",
       "    </tr>\n",
       "    <tr>\n",
       "      <td>Airport</td>\n",
       "      <td>5</td>\n",
       "      <td>6</td>\n",
       "      <td>11</td>\n",
       "    </tr>\n",
       "  </tbody>\n",
       "</table>\n",
       "</div>"
      ],
      "text/plain": [
       "           fatalities  injured  Total_victims\n",
       "Location                                     \n",
       "Other             419      939           1358\n",
       "Workplace         293      170            463\n",
       "School            176      218            394\n",
       "Military           38       76            114\n",
       "Religious          68       41            109\n",
       "Airport             5        6             11"
      ]
     },
     "execution_count": 699,
     "metadata": {},
     "output_type": "execute_result"
    }
   ],
   "source": [
    "Loc_df= new_df.groupby('Location')[\"fatalities\",\"injured\",\"Total_victims\"].sum()\n",
    "Loc_df.sort_values(\"Total_victims\", ascending= False) "
   ]
  },
  {
   "cell_type": "markdown",
   "metadata": {},
   "source": [
    "### All over"
   ]
  },
  {
   "cell_type": "code",
   "execution_count": 700,
   "metadata": {
    "scrolled": false
   },
   "outputs": [
    {
     "data": {
      "text/plain": [
       "[<matplotlib.lines.Line2D at 0x29fcf370d88>]"
      ]
     },
     "execution_count": 700,
     "metadata": {},
     "output_type": "execute_result"
    },
    {
     "data": {
      "image/png": "[encoded data removed]",
      "text/plain": [
       "<Figure size 936x288 with 1 Axes>"
      ]
     },
     "metadata": {},
     "output_type": "display_data"
    }
   ],
   "source": [
    "plt.plot(Loc_df.index, Loc_df.Total_victims)\n",
    "plt.plot(Loc_df.index, Loc_df.injured)\n",
    "plt.plot(Loc_df.index, Loc_df.fatalities)"
   ]
  },
  {
   "cell_type": "code",
   "execution_count": 957,
   "metadata": {},
   "outputs": [
    {
     "data": {
      "text/html": [
       "<div>\n",
       "<style scoped>\n",
       "    .dataframe tbody tr th:only-of-type {\n",
       "        vertical-align: middle;\n",
       "    }\n",
       "\n",
       "    .dataframe tbody tr th {\n",
       "        vertical-align: top;\n",
       "    }\n",
       "\n",
       "    .dataframe thead th {\n",
       "        text-align: right;\n",
       "    }\n",
       "</style>\n",
       "<table border=\"1\" class=\"dataframe\">\n",
       "  <thead>\n",
       "    <tr style=\"text-align: right;\">\n",
       "      <th></th>\n",
       "      <th>location</th>\n",
       "      <th>date</th>\n",
       "      <th>fatalities</th>\n",
       "      <th>injured</th>\n",
       "      <th>age_of_shooter</th>\n",
       "      <th>prior_signs_mental_health_issues</th>\n",
       "      <th>weapons_obtained_legally</th>\n",
       "      <th>weapon_type</th>\n",
       "      <th>race</th>\n",
       "      <th>gender</th>\n",
       "      <th>type</th>\n",
       "      <th>Total_victims</th>\n",
       "      <th>Area</th>\n",
       "      <th>State</th>\n",
       "      <th>Year</th>\n",
       "      <th>Date</th>\n",
       "      <th>Month</th>\n",
       "    </tr>\n",
       "  </thead>\n",
       "  <tbody>\n",
       "    <tr>\n",
       "      <td>1</td>\n",
       "      <td>Buffalo, New York</td>\n",
       "      <td>2022-05-14</td>\n",
       "      <td>10</td>\n",
       "      <td>3</td>\n",
       "      <td>18</td>\n",
       "      <td>Yes</td>\n",
       "      <td>Yes</td>\n",
       "      <td>semiautomatic rifle</td>\n",
       "      <td>White</td>\n",
       "      <td>M</td>\n",
       "      <td>Mass</td>\n",
       "      <td>13</td>\n",
       "      <td>Buffalo</td>\n",
       "      <td>New York</td>\n",
       "      <td>2022</td>\n",
       "      <td>14</td>\n",
       "      <td>May</td>\n",
       "    </tr>\n",
       "    <tr>\n",
       "      <td>3</td>\n",
       "      <td>Oxford, Michigan</td>\n",
       "      <td>2021-11-30</td>\n",
       "      <td>4</td>\n",
       "      <td>7</td>\n",
       "      <td>15</td>\n",
       "      <td>Unclear</td>\n",
       "      <td>Unclear</td>\n",
       "      <td>semiautomatic handgun</td>\n",
       "      <td>Unclear</td>\n",
       "      <td>M</td>\n",
       "      <td>Mass</td>\n",
       "      <td>11</td>\n",
       "      <td>Oxford</td>\n",
       "      <td>Michigan</td>\n",
       "      <td>2021</td>\n",
       "      <td>30</td>\n",
       "      <td>Nov</td>\n",
       "    </tr>\n",
       "    <tr>\n",
       "      <td>4</td>\n",
       "      <td>San Jose, California</td>\n",
       "      <td>2021-05-26</td>\n",
       "      <td>9</td>\n",
       "      <td>0</td>\n",
       "      <td>57</td>\n",
       "      <td>Yes</td>\n",
       "      <td>Unclear</td>\n",
       "      <td>semiautomatic handguns</td>\n",
       "      <td>Unclear</td>\n",
       "      <td>M</td>\n",
       "      <td>Mass</td>\n",
       "      <td>9</td>\n",
       "      <td>San Jose</td>\n",
       "      <td>California</td>\n",
       "      <td>2021</td>\n",
       "      <td>26</td>\n",
       "      <td>May</td>\n",
       "    </tr>\n",
       "    <tr>\n",
       "      <td>5</td>\n",
       "      <td>Indianapolis, Indiana</td>\n",
       "      <td>2021-04-15</td>\n",
       "      <td>8</td>\n",
       "      <td>7</td>\n",
       "      <td>19</td>\n",
       "      <td>Yes</td>\n",
       "      <td>Yes</td>\n",
       "      <td>semiautomatic rifle</td>\n",
       "      <td>White</td>\n",
       "      <td>M</td>\n",
       "      <td>Mass</td>\n",
       "      <td>15</td>\n",
       "      <td>Indianapolis</td>\n",
       "      <td>Indiana</td>\n",
       "      <td>2021</td>\n",
       "      <td>15</td>\n",
       "      <td>Apr</td>\n",
       "    </tr>\n",
       "    <tr>\n",
       "      <td>7</td>\n",
       "      <td>Boulder, Colorado</td>\n",
       "      <td>2021-03-22</td>\n",
       "      <td>10</td>\n",
       "      <td>0</td>\n",
       "      <td>21</td>\n",
       "      <td>Yes</td>\n",
       "      <td>Yes</td>\n",
       "      <td>semiautomatic rifle, semiautomatic handgun; ta...</td>\n",
       "      <td>Unclear</td>\n",
       "      <td>M</td>\n",
       "      <td>Mass</td>\n",
       "      <td>10</td>\n",
       "      <td>Boulder</td>\n",
       "      <td>Colorado</td>\n",
       "      <td>2021</td>\n",
       "      <td>22</td>\n",
       "      <td>Mar</td>\n",
       "    </tr>\n",
       "  </tbody>\n",
       "</table>\n",
       "</div>"
      ],
      "text/plain": [
       "                location       date  fatalities  injured  age_of_shooter  \\\n",
       "1      Buffalo, New York 2022-05-14          10        3              18   \n",
       "3       Oxford, Michigan 2021-11-30           4        7              15   \n",
       "4   San Jose, California 2021-05-26           9        0              57   \n",
       "5  Indianapolis, Indiana 2021-04-15           8        7              19   \n",
       "7      Boulder, Colorado 2021-03-22          10        0              21   \n",
       "\n",
       "  prior_signs_mental_health_issues weapons_obtained_legally  \\\n",
       "1                              Yes                      Yes   \n",
       "3                          Unclear                  Unclear   \n",
       "4                              Yes                  Unclear   \n",
       "5                              Yes                      Yes   \n",
       "7                              Yes                      Yes   \n",
       "\n",
       "                                         weapon_type     race gender  type  \\\n",
       "1                                semiautomatic rifle    White      M  Mass   \n",
       "3                              semiautomatic handgun  Unclear      M  Mass   \n",
       "4                             semiautomatic handguns  Unclear      M  Mass   \n",
       "5                                semiautomatic rifle    White      M  Mass   \n",
       "7  semiautomatic rifle, semiautomatic handgun; ta...  Unclear      M  Mass   \n",
       "\n",
       "   Total_victims          Area        State  Year  Date Month  \n",
       "1             13       Buffalo     New York  2022    14   May  \n",
       "3             11        Oxford     Michigan  2021    30   Nov  \n",
       "4              9      San Jose   California  2021    26   May  \n",
       "5             15  Indianapolis      Indiana  2021    15   Apr  \n",
       "7             10       Boulder     Colorado  2021    22   Mar  "
      ]
     },
     "execution_count": 957,
     "metadata": {},
     "output_type": "execute_result"
    }
   ],
   "source": [
    "new_df.head()"
   ]
  },
  {
   "cell_type": "markdown",
   "metadata": {},
   "source": [
    "## Visualization by Area"
   ]
  },
  {
   "cell_type": "code",
   "execution_count": 958,
   "metadata": {},
   "outputs": [],
   "source": [
    "Area_df= new_df.groupby(\"Area\")[\"fatalities\",\"injured\",\"Total_victims\"].sum()\n",
    "Area_df\n",
    "Area_df.sort_values(\"Total_victims\" , ascending= False , inplace= True)"
   ]
  },
  {
   "cell_type": "code",
   "execution_count": 959,
   "metadata": {},
   "outputs": [
    {
     "data": {
      "text/html": [
       "<div>\n",
       "<style scoped>\n",
       "    .dataframe tbody tr th:only-of-type {\n",
       "        vertical-align: middle;\n",
       "    }\n",
       "\n",
       "    .dataframe tbody tr th {\n",
       "        vertical-align: top;\n",
       "    }\n",
       "\n",
       "    .dataframe thead th {\n",
       "        text-align: right;\n",
       "    }\n",
       "</style>\n",
       "<table border=\"1\" class=\"dataframe\">\n",
       "  <thead>\n",
       "    <tr style=\"text-align: right;\">\n",
       "      <th></th>\n",
       "      <th>fatalities</th>\n",
       "      <th>injured</th>\n",
       "      <th>Total_victims</th>\n",
       "    </tr>\n",
       "    <tr>\n",
       "      <th>Area</th>\n",
       "      <th></th>\n",
       "      <th></th>\n",
       "      <th></th>\n",
       "    </tr>\n",
       "  </thead>\n",
       "  <tbody>\n",
       "    <tr>\n",
       "      <td>Las Vegas</td>\n",
       "      <td>58</td>\n",
       "      <td>546</td>\n",
       "      <td>604</td>\n",
       "    </tr>\n",
       "    <tr>\n",
       "      <td>Orlando</td>\n",
       "      <td>54</td>\n",
       "      <td>53</td>\n",
       "      <td>107</td>\n",
       "    </tr>\n",
       "    <tr>\n",
       "      <td>Aurora</td>\n",
       "      <td>21</td>\n",
       "      <td>77</td>\n",
       "      <td>98</td>\n",
       "    </tr>\n",
       "    <tr>\n",
       "      <td>Fort Hood</td>\n",
       "      <td>16</td>\n",
       "      <td>43</td>\n",
       "      <td>59</td>\n",
       "    </tr>\n",
       "    <tr>\n",
       "      <td>Blacksburg</td>\n",
       "      <td>32</td>\n",
       "      <td>23</td>\n",
       "      <td>55</td>\n",
       "    </tr>\n",
       "  </tbody>\n",
       "</table>\n",
       "</div>"
      ],
      "text/plain": [
       "            fatalities  injured  Total_victims\n",
       "Area                                          \n",
       "Las Vegas           58      546            604\n",
       "Orlando             54       53            107\n",
       "Aurora              21       77             98\n",
       "Fort Hood           16       43             59\n",
       "Blacksburg          32       23             55"
      ]
     },
     "execution_count": 959,
     "metadata": {},
     "output_type": "execute_result"
    }
   ],
   "source": [
    "Area_df.head()"
   ]
  },
  {
   "cell_type": "markdown",
   "metadata": {},
   "source": [
    "### Total victims"
   ]
  },
  {
   "cell_type": "code",
   "execution_count": 960,
   "metadata": {
    "scrolled": true
   },
   "outputs": [
    {
     "data": {
      "text/plain": [
       "<matplotlib.axes._subplots.AxesSubplot at 0x29fd1549988>"
      ]
     },
     "execution_count": 960,
     "metadata": {},
     "output_type": "execute_result"
    },
    {
     "data": {
      "image/png": "[encoded data removed]",
      "text/plain": [
       "<Figure size 1080x360 with 1 Axes>"
      ]
     },
     "metadata": {},
     "output_type": "display_data"
    }
   ],
   "source": [
    "sns.barplot(Area_df.index, Area_df.Total_victims,\n",
    "           order= Area_df.index[:10])"
   ]
  },
  {
   "cell_type": "code",
   "execution_count": 962,
   "metadata": {},
   "outputs": [],
   "source": [
    "Area_df= new_df.groupby(\"Area\")[\"fatalities\",\"injured\",\"Total_victims\"].sum()\n",
    "Area_df\n",
    "Area_df.sort_values(\"fatalities\" , ascending= False , inplace= True)"
   ]
  },
  {
   "cell_type": "code",
   "execution_count": 963,
   "metadata": {},
   "outputs": [
    {
     "data": {
      "text/html": [
       "<div>\n",
       "<style scoped>\n",
       "    .dataframe tbody tr th:only-of-type {\n",
       "        vertical-align: middle;\n",
       "    }\n",
       "\n",
       "    .dataframe tbody tr th {\n",
       "        vertical-align: top;\n",
       "    }\n",
       "\n",
       "    .dataframe thead th {\n",
       "        text-align: right;\n",
       "    }\n",
       "</style>\n",
       "<table border=\"1\" class=\"dataframe\">\n",
       "  <thead>\n",
       "    <tr style=\"text-align: right;\">\n",
       "      <th></th>\n",
       "      <th>fatalities</th>\n",
       "      <th>injured</th>\n",
       "      <th>Total_victims</th>\n",
       "    </tr>\n",
       "    <tr>\n",
       "      <th>Area</th>\n",
       "      <th></th>\n",
       "      <th></th>\n",
       "      <th></th>\n",
       "    </tr>\n",
       "  </thead>\n",
       "  <tbody>\n",
       "    <tr>\n",
       "      <td>Las Vegas</td>\n",
       "      <td>58</td>\n",
       "      <td>546</td>\n",
       "      <td>604</td>\n",
       "    </tr>\n",
       "    <tr>\n",
       "      <td>Orlando</td>\n",
       "      <td>54</td>\n",
       "      <td>53</td>\n",
       "      <td>107</td>\n",
       "    </tr>\n",
       "    <tr>\n",
       "      <td>Blacksburg</td>\n",
       "      <td>32</td>\n",
       "      <td>23</td>\n",
       "      <td>55</td>\n",
       "    </tr>\n",
       "    <tr>\n",
       "      <td>Newtown</td>\n",
       "      <td>27</td>\n",
       "      <td>2</td>\n",
       "      <td>29</td>\n",
       "    </tr>\n",
       "    <tr>\n",
       "      <td>Sutherland Springs</td>\n",
       "      <td>26</td>\n",
       "      <td>20</td>\n",
       "      <td>46</td>\n",
       "    </tr>\n",
       "  </tbody>\n",
       "</table>\n",
       "</div>"
      ],
      "text/plain": [
       "                    fatalities  injured  Total_victims\n",
       "Area                                                  \n",
       "Las Vegas                   58      546            604\n",
       "Orlando                     54       53            107\n",
       "Blacksburg                  32       23             55\n",
       "Newtown                     27        2             29\n",
       "Sutherland Springs          26       20             46"
      ]
     },
     "execution_count": 963,
     "metadata": {},
     "output_type": "execute_result"
    }
   ],
   "source": [
    "Area_df.head()"
   ]
  },
  {
   "cell_type": "markdown",
   "metadata": {},
   "source": [
    "### Fatalities"
   ]
  },
  {
   "cell_type": "code",
   "execution_count": 964,
   "metadata": {},
   "outputs": [
    {
     "data": {
      "text/plain": [
       "<matplotlib.axes._subplots.AxesSubplot at 0x29fd34c7608>"
      ]
     },
     "execution_count": 964,
     "metadata": {},
     "output_type": "execute_result"
    },
    {
     "data": {
      "image/png": "[encoded data removed]",
      "text/plain": [
       "<Figure size 1080x360 with 1 Axes>"
      ]
     },
     "metadata": {},
     "output_type": "display_data"
    }
   ],
   "source": [
    "sns.barplot(Area_df.index, Area_df.fatalities,\n",
    "           order= Area_df.index[:10])"
   ]
  },
  {
   "cell_type": "markdown",
   "metadata": {},
   "source": [
    "### Injured"
   ]
  },
  {
   "cell_type": "code",
   "execution_count": 766,
   "metadata": {},
   "outputs": [],
   "source": [
    "Area_df= new_df.groupby(\"Area\")[\"fatalities\",\"injured\",\"Total_victims\"].sum()\n",
    "Area_df\n",
    "Area_df.sort_values(\"injured\" , ascending= False , inplace= True)"
   ]
  },
  {
   "cell_type": "code",
   "execution_count": 767,
   "metadata": {},
   "outputs": [
    {
     "data": {
      "text/plain": [
       "<matplotlib.axes._subplots.AxesSubplot at 0x29fd0fd4388>"
      ]
     },
     "execution_count": 767,
     "metadata": {},
     "output_type": "execute_result"
    },
    {
     "data": {
      "image/png": "[encoded data removed]",
      "text/plain": [
       "<Figure size 936x288 with 1 Axes>"
      ]
     },
     "metadata": {},
     "output_type": "display_data"
    }
   ],
   "source": [
    "sns.barplot(Area_df.index, Area_df.injured,\n",
    "           order= Area_df.index[:10])"
   ]
  },
  {
   "cell_type": "markdown",
   "metadata": {},
   "source": [
    "## Visualization 0f State"
   ]
  },
  {
   "cell_type": "code",
   "execution_count": 776,
   "metadata": {
    "scrolled": true
   },
   "outputs": [
    {
     "data": {
      "text/html": [
       "<div>\n",
       "<style scoped>\n",
       "    .dataframe tbody tr th:only-of-type {\n",
       "        vertical-align: middle;\n",
       "    }\n",
       "\n",
       "    .dataframe tbody tr th {\n",
       "        vertical-align: top;\n",
       "    }\n",
       "\n",
       "    .dataframe thead th {\n",
       "        text-align: right;\n",
       "    }\n",
       "</style>\n",
       "<table border=\"1\" class=\"dataframe\">\n",
       "  <thead>\n",
       "    <tr style=\"text-align: right;\">\n",
       "      <th></th>\n",
       "      <th>fatalities</th>\n",
       "      <th>injured</th>\n",
       "      <th>Total_victims</th>\n",
       "    </tr>\n",
       "    <tr>\n",
       "      <th>State</th>\n",
       "      <th></th>\n",
       "      <th></th>\n",
       "      <th></th>\n",
       "    </tr>\n",
       "  </thead>\n",
       "  <tbody>\n",
       "    <tr>\n",
       "      <td>Nevada</td>\n",
       "      <td>63</td>\n",
       "      <td>553</td>\n",
       "      <td>616</td>\n",
       "    </tr>\n",
       "    <tr>\n",
       "      <td>California</td>\n",
       "      <td>149</td>\n",
       "      <td>159</td>\n",
       "      <td>308</td>\n",
       "    </tr>\n",
       "    <tr>\n",
       "      <td>Texas</td>\n",
       "      <td>130</td>\n",
       "      <td>166</td>\n",
       "      <td>296</td>\n",
       "    </tr>\n",
       "    <tr>\n",
       "      <td>Florida</td>\n",
       "      <td>123</td>\n",
       "      <td>101</td>\n",
       "      <td>224</td>\n",
       "    </tr>\n",
       "    <tr>\n",
       "      <td>Colorado</td>\n",
       "      <td>48</td>\n",
       "      <td>104</td>\n",
       "      <td>152</td>\n",
       "    </tr>\n",
       "  </tbody>\n",
       "</table>\n",
       "</div>"
      ],
      "text/plain": [
       "             fatalities  injured  Total_victims\n",
       "State                                          \n",
       " Nevada              63      553            616\n",
       " California         149      159            308\n",
       " Texas              130      166            296\n",
       " Florida            123      101            224\n",
       " Colorado            48      104            152"
      ]
     },
     "execution_count": 776,
     "metadata": {},
     "output_type": "execute_result"
    }
   ],
   "source": [
    "State_df= new_df.groupby(\"State\")[\"fatalities\",\"injured\",\"Total_victims\"].sum()\n",
    "State_df.sort_values(\"Total_victims\",ascending = False, inplace= True)\n",
    "State_df.head()"
   ]
  },
  {
   "cell_type": "markdown",
   "metadata": {},
   "source": [
    "### Total victims"
   ]
  },
  {
   "cell_type": "code",
   "execution_count": 777,
   "metadata": {},
   "outputs": [
    {
     "data": {
      "text/plain": [
       "<matplotlib.axes._subplots.AxesSubplot at 0x29fd10f2908>"
      ]
     },
     "execution_count": 777,
     "metadata": {},
     "output_type": "execute_result"
    },
    {
     "data": {
      "image/png": "[encoded data removed]",
      "text/plain": [
       "<Figure size 936x288 with 1 Axes>"
      ]
     },
     "metadata": {},
     "output_type": "display_data"
    }
   ],
   "source": [
    "sns.barplot(State_df.index, State_df.Total_victims,\n",
    "           order= State_df.index[:10])"
   ]
  },
  {
   "cell_type": "code",
   "execution_count": 779,
   "metadata": {},
   "outputs": [
    {
     "data": {
      "text/html": [
       "<div>\n",
       "<style scoped>\n",
       "    .dataframe tbody tr th:only-of-type {\n",
       "        vertical-align: middle;\n",
       "    }\n",
       "\n",
       "    .dataframe tbody tr th {\n",
       "        vertical-align: top;\n",
       "    }\n",
       "\n",
       "    .dataframe thead th {\n",
       "        text-align: right;\n",
       "    }\n",
       "</style>\n",
       "<table border=\"1\" class=\"dataframe\">\n",
       "  <thead>\n",
       "    <tr style=\"text-align: right;\">\n",
       "      <th></th>\n",
       "      <th>fatalities</th>\n",
       "      <th>injured</th>\n",
       "      <th>Total_victims</th>\n",
       "    </tr>\n",
       "    <tr>\n",
       "      <th>State</th>\n",
       "      <th></th>\n",
       "      <th></th>\n",
       "      <th></th>\n",
       "    </tr>\n",
       "  </thead>\n",
       "  <tbody>\n",
       "    <tr>\n",
       "      <td>California</td>\n",
       "      <td>149</td>\n",
       "      <td>159</td>\n",
       "      <td>308</td>\n",
       "    </tr>\n",
       "    <tr>\n",
       "      <td>Texas</td>\n",
       "      <td>130</td>\n",
       "      <td>166</td>\n",
       "      <td>296</td>\n",
       "    </tr>\n",
       "    <tr>\n",
       "      <td>Florida</td>\n",
       "      <td>123</td>\n",
       "      <td>101</td>\n",
       "      <td>224</td>\n",
       "    </tr>\n",
       "    <tr>\n",
       "      <td>Nevada</td>\n",
       "      <td>63</td>\n",
       "      <td>553</td>\n",
       "      <td>616</td>\n",
       "    </tr>\n",
       "    <tr>\n",
       "      <td>Colorado</td>\n",
       "      <td>48</td>\n",
       "      <td>104</td>\n",
       "      <td>152</td>\n",
       "    </tr>\n",
       "  </tbody>\n",
       "</table>\n",
       "</div>"
      ],
      "text/plain": [
       "             fatalities  injured  Total_victims\n",
       "State                                          \n",
       " California         149      159            308\n",
       " Texas              130      166            296\n",
       " Florida            123      101            224\n",
       " Nevada              63      553            616\n",
       " Colorado            48      104            152"
      ]
     },
     "execution_count": 779,
     "metadata": {},
     "output_type": "execute_result"
    }
   ],
   "source": [
    "State_df= new_df.groupby(\"State\")[\"fatalities\",\"injured\",\"Total_victims\"].sum()\n",
    "State_df.sort_values(\"fatalities\" , ascending= False , inplace= True)\n",
    "State_df.head()"
   ]
  },
  {
   "cell_type": "markdown",
   "metadata": {},
   "source": [
    "### Fatalities"
   ]
  },
  {
   "cell_type": "code",
   "execution_count": 780,
   "metadata": {
    "scrolled": true
   },
   "outputs": [
    {
     "data": {
      "text/plain": [
       "<matplotlib.axes._subplots.AxesSubplot at 0x29fd115ff88>"
      ]
     },
     "execution_count": 780,
     "metadata": {},
     "output_type": "execute_result"
    },
    {
     "data": {
      "image/png": "[encoded data removed]",
      "text/plain": [
       "<Figure size 936x288 with 1 Axes>"
      ]
     },
     "metadata": {},
     "output_type": "display_data"
    }
   ],
   "source": [
    "sns.barplot(State_df.index, State_df.fatalities,\n",
    "           order= State_df.index[:10])"
   ]
  },
  {
   "cell_type": "code",
   "execution_count": 781,
   "metadata": {},
   "outputs": [
    {
     "data": {
      "text/html": [
       "<div>\n",
       "<style scoped>\n",
       "    .dataframe tbody tr th:only-of-type {\n",
       "        vertical-align: middle;\n",
       "    }\n",
       "\n",
       "    .dataframe tbody tr th {\n",
       "        vertical-align: top;\n",
       "    }\n",
       "\n",
       "    .dataframe thead th {\n",
       "        text-align: right;\n",
       "    }\n",
       "</style>\n",
       "<table border=\"1\" class=\"dataframe\">\n",
       "  <thead>\n",
       "    <tr style=\"text-align: right;\">\n",
       "      <th></th>\n",
       "      <th>fatalities</th>\n",
       "      <th>injured</th>\n",
       "      <th>Total_victims</th>\n",
       "    </tr>\n",
       "    <tr>\n",
       "      <th>State</th>\n",
       "      <th></th>\n",
       "      <th></th>\n",
       "      <th></th>\n",
       "    </tr>\n",
       "  </thead>\n",
       "  <tbody>\n",
       "    <tr>\n",
       "      <td>Nevada</td>\n",
       "      <td>63</td>\n",
       "      <td>553</td>\n",
       "      <td>616</td>\n",
       "    </tr>\n",
       "    <tr>\n",
       "      <td>Texas</td>\n",
       "      <td>130</td>\n",
       "      <td>166</td>\n",
       "      <td>296</td>\n",
       "    </tr>\n",
       "    <tr>\n",
       "      <td>California</td>\n",
       "      <td>149</td>\n",
       "      <td>159</td>\n",
       "      <td>308</td>\n",
       "    </tr>\n",
       "    <tr>\n",
       "      <td>Colorado</td>\n",
       "      <td>48</td>\n",
       "      <td>104</td>\n",
       "      <td>152</td>\n",
       "    </tr>\n",
       "    <tr>\n",
       "      <td>Florida</td>\n",
       "      <td>123</td>\n",
       "      <td>101</td>\n",
       "      <td>224</td>\n",
       "    </tr>\n",
       "  </tbody>\n",
       "</table>\n",
       "</div>"
      ],
      "text/plain": [
       "             fatalities  injured  Total_victims\n",
       "State                                          \n",
       " Nevada              63      553            616\n",
       " Texas              130      166            296\n",
       " California         149      159            308\n",
       " Colorado            48      104            152\n",
       " Florida            123      101            224"
      ]
     },
     "execution_count": 781,
     "metadata": {},
     "output_type": "execute_result"
    }
   ],
   "source": [
    "State_df= new_df.groupby(\"State\")[\"fatalities\",\"injured\",\"Total_victims\"].sum()\n",
    "State_df.sort_values(\"injured\" , ascending= False , inplace= True)\n",
    "State_df.head()"
   ]
  },
  {
   "cell_type": "markdown",
   "metadata": {},
   "source": [
    "### Injured"
   ]
  },
  {
   "cell_type": "code",
   "execution_count": 782,
   "metadata": {},
   "outputs": [
    {
     "data": {
      "text/plain": [
       "<matplotlib.axes._subplots.AxesSubplot at 0x29fd1256608>"
      ]
     },
     "execution_count": 782,
     "metadata": {},
     "output_type": "execute_result"
    },
    {
     "data": {
      "image/png": "[encoded data removed]",
      "text/plain": [
       "<Figure size 936x288 with 1 Axes>"
      ]
     },
     "metadata": {},
     "output_type": "display_data"
    }
   ],
   "source": [
    "sns.barplot(State_df.index, State_df.injured,\n",
    "           order= State_df.index[:10])"
   ]
  },
  {
   "cell_type": "code",
   "execution_count": 965,
   "metadata": {},
   "outputs": [
    {
     "data": {
      "text/html": [
       "<div>\n",
       "<style scoped>\n",
       "    .dataframe tbody tr th:only-of-type {\n",
       "        vertical-align: middle;\n",
       "    }\n",
       "\n",
       "    .dataframe tbody tr th {\n",
       "        vertical-align: top;\n",
       "    }\n",
       "\n",
       "    .dataframe thead th {\n",
       "        text-align: right;\n",
       "    }\n",
       "</style>\n",
       "<table border=\"1\" class=\"dataframe\">\n",
       "  <thead>\n",
       "    <tr style=\"text-align: right;\">\n",
       "      <th></th>\n",
       "      <th>location</th>\n",
       "      <th>date</th>\n",
       "      <th>fatalities</th>\n",
       "      <th>injured</th>\n",
       "      <th>age_of_shooter</th>\n",
       "      <th>prior_signs_mental_health_issues</th>\n",
       "      <th>weapons_obtained_legally</th>\n",
       "      <th>weapon_type</th>\n",
       "      <th>race</th>\n",
       "      <th>gender</th>\n",
       "      <th>type</th>\n",
       "      <th>Total_victims</th>\n",
       "      <th>Area</th>\n",
       "      <th>State</th>\n",
       "      <th>Year</th>\n",
       "      <th>Date</th>\n",
       "      <th>Month</th>\n",
       "    </tr>\n",
       "  </thead>\n",
       "  <tbody>\n",
       "    <tr>\n",
       "      <td>1</td>\n",
       "      <td>Buffalo, New York</td>\n",
       "      <td>2022-05-14</td>\n",
       "      <td>10</td>\n",
       "      <td>3</td>\n",
       "      <td>18</td>\n",
       "      <td>Yes</td>\n",
       "      <td>Yes</td>\n",
       "      <td>semiautomatic rifle</td>\n",
       "      <td>White</td>\n",
       "      <td>M</td>\n",
       "      <td>Mass</td>\n",
       "      <td>13</td>\n",
       "      <td>Buffalo</td>\n",
       "      <td>New York</td>\n",
       "      <td>2022</td>\n",
       "      <td>14</td>\n",
       "      <td>May</td>\n",
       "    </tr>\n",
       "    <tr>\n",
       "      <td>3</td>\n",
       "      <td>Oxford, Michigan</td>\n",
       "      <td>2021-11-30</td>\n",
       "      <td>4</td>\n",
       "      <td>7</td>\n",
       "      <td>15</td>\n",
       "      <td>Unclear</td>\n",
       "      <td>Unclear</td>\n",
       "      <td>semiautomatic handgun</td>\n",
       "      <td>Unclear</td>\n",
       "      <td>M</td>\n",
       "      <td>Mass</td>\n",
       "      <td>11</td>\n",
       "      <td>Oxford</td>\n",
       "      <td>Michigan</td>\n",
       "      <td>2021</td>\n",
       "      <td>30</td>\n",
       "      <td>Nov</td>\n",
       "    </tr>\n",
       "    <tr>\n",
       "      <td>4</td>\n",
       "      <td>San Jose, California</td>\n",
       "      <td>2021-05-26</td>\n",
       "      <td>9</td>\n",
       "      <td>0</td>\n",
       "      <td>57</td>\n",
       "      <td>Yes</td>\n",
       "      <td>Unclear</td>\n",
       "      <td>semiautomatic handguns</td>\n",
       "      <td>Unclear</td>\n",
       "      <td>M</td>\n",
       "      <td>Mass</td>\n",
       "      <td>9</td>\n",
       "      <td>San Jose</td>\n",
       "      <td>California</td>\n",
       "      <td>2021</td>\n",
       "      <td>26</td>\n",
       "      <td>May</td>\n",
       "    </tr>\n",
       "    <tr>\n",
       "      <td>5</td>\n",
       "      <td>Indianapolis, Indiana</td>\n",
       "      <td>2021-04-15</td>\n",
       "      <td>8</td>\n",
       "      <td>7</td>\n",
       "      <td>19</td>\n",
       "      <td>Yes</td>\n",
       "      <td>Yes</td>\n",
       "      <td>semiautomatic rifle</td>\n",
       "      <td>White</td>\n",
       "      <td>M</td>\n",
       "      <td>Mass</td>\n",
       "      <td>15</td>\n",
       "      <td>Indianapolis</td>\n",
       "      <td>Indiana</td>\n",
       "      <td>2021</td>\n",
       "      <td>15</td>\n",
       "      <td>Apr</td>\n",
       "    </tr>\n",
       "    <tr>\n",
       "      <td>7</td>\n",
       "      <td>Boulder, Colorado</td>\n",
       "      <td>2021-03-22</td>\n",
       "      <td>10</td>\n",
       "      <td>0</td>\n",
       "      <td>21</td>\n",
       "      <td>Yes</td>\n",
       "      <td>Yes</td>\n",
       "      <td>semiautomatic rifle, semiautomatic handgun; ta...</td>\n",
       "      <td>Unclear</td>\n",
       "      <td>M</td>\n",
       "      <td>Mass</td>\n",
       "      <td>10</td>\n",
       "      <td>Boulder</td>\n",
       "      <td>Colorado</td>\n",
       "      <td>2021</td>\n",
       "      <td>22</td>\n",
       "      <td>Mar</td>\n",
       "    </tr>\n",
       "  </tbody>\n",
       "</table>\n",
       "</div>"
      ],
      "text/plain": [
       "                location       date  fatalities  injured  age_of_shooter  \\\n",
       "1      Buffalo, New York 2022-05-14          10        3              18   \n",
       "3       Oxford, Michigan 2021-11-30           4        7              15   \n",
       "4   San Jose, California 2021-05-26           9        0              57   \n",
       "5  Indianapolis, Indiana 2021-04-15           8        7              19   \n",
       "7      Boulder, Colorado 2021-03-22          10        0              21   \n",
       "\n",
       "  prior_signs_mental_health_issues weapons_obtained_legally  \\\n",
       "1                              Yes                      Yes   \n",
       "3                          Unclear                  Unclear   \n",
       "4                              Yes                  Unclear   \n",
       "5                              Yes                      Yes   \n",
       "7                              Yes                      Yes   \n",
       "\n",
       "                                         weapon_type     race gender  type  \\\n",
       "1                                semiautomatic rifle    White      M  Mass   \n",
       "3                              semiautomatic handgun  Unclear      M  Mass   \n",
       "4                             semiautomatic handguns  Unclear      M  Mass   \n",
       "5                                semiautomatic rifle    White      M  Mass   \n",
       "7  semiautomatic rifle, semiautomatic handgun; ta...  Unclear      M  Mass   \n",
       "\n",
       "   Total_victims          Area        State  Year  Date Month  \n",
       "1             13       Buffalo     New York  2022    14   May  \n",
       "3             11        Oxford     Michigan  2021    30   Nov  \n",
       "4              9      San Jose   California  2021    26   May  \n",
       "5             15  Indianapolis      Indiana  2021    15   Apr  \n",
       "7             10       Boulder     Colorado  2021    22   Mar  "
      ]
     },
     "execution_count": 965,
     "metadata": {},
     "output_type": "execute_result"
    }
   ],
   "source": [
    "new_df.head()"
   ]
  },
  {
   "cell_type": "markdown",
   "metadata": {},
   "source": [
    "## Visualization by Age"
   ]
  },
  {
   "cell_type": "code",
   "execution_count": 1005,
   "metadata": {},
   "outputs": [
    {
     "data": {
      "text/plain": [
       "Text(0, 0.5, 'Incidents')"
      ]
     },
     "execution_count": 1005,
     "metadata": {},
     "output_type": "execute_result"
    },
    {
     "data": {
      "image/png": "[encoded data removed]",
      "text/plain": [
       "<Figure size 1296x432 with 1 Axes>"
      ]
     },
     "metadata": {},
     "output_type": "display_data"
    }
   ],
   "source": [
    "sns.countplot(\"age_of_shooter\",data= new_df)\n",
    "sns.set(rc={'figure.figsize':(15,5)})\n",
    "plt.ylabel(\"Incidents\")\n"
   ]
  },
  {
   "cell_type": "code",
   "execution_count": 857,
   "metadata": {},
   "outputs": [
    {
     "data": {
      "text/html": [
       "<div>\n",
       "<style scoped>\n",
       "    .dataframe tbody tr th:only-of-type {\n",
       "        vertical-align: middle;\n",
       "    }\n",
       "\n",
       "    .dataframe tbody tr th {\n",
       "        vertical-align: top;\n",
       "    }\n",
       "\n",
       "    .dataframe thead th {\n",
       "        text-align: right;\n",
       "    }\n",
       "</style>\n",
       "<table border=\"1\" class=\"dataframe\">\n",
       "  <thead>\n",
       "    <tr style=\"text-align: right;\">\n",
       "      <th></th>\n",
       "      <th>fatalities</th>\n",
       "      <th>injured</th>\n",
       "      <th>Total_victims</th>\n",
       "    </tr>\n",
       "    <tr>\n",
       "      <th>age_of_shooter</th>\n",
       "      <th></th>\n",
       "      <th></th>\n",
       "      <th></th>\n",
       "    </tr>\n",
       "  </thead>\n",
       "  <tbody>\n",
       "    <tr>\n",
       "      <td>11</td>\n",
       "      <td>5</td>\n",
       "      <td>10</td>\n",
       "      <td>15</td>\n",
       "    </tr>\n",
       "    <tr>\n",
       "      <td>15</td>\n",
       "      <td>13</td>\n",
       "      <td>33</td>\n",
       "      <td>46</td>\n",
       "    </tr>\n",
       "    <tr>\n",
       "      <td>16</td>\n",
       "      <td>10</td>\n",
       "      <td>5</td>\n",
       "      <td>15</td>\n",
       "    </tr>\n",
       "    <tr>\n",
       "      <td>17</td>\n",
       "      <td>23</td>\n",
       "      <td>37</td>\n",
       "      <td>60</td>\n",
       "    </tr>\n",
       "    <tr>\n",
       "      <td>18</td>\n",
       "      <td>16</td>\n",
       "      <td>7</td>\n",
       "      <td>23</td>\n",
       "    </tr>\n",
       "  </tbody>\n",
       "</table>\n",
       "</div>"
      ],
      "text/plain": [
       "                fatalities  injured  Total_victims\n",
       "age_of_shooter                                    \n",
       "11                       5       10             15\n",
       "15                      13       33             46\n",
       "16                      10        5             15\n",
       "17                      23       37             60\n",
       "18                      16        7             23"
      ]
     },
     "execution_count": 857,
     "metadata": {},
     "output_type": "execute_result"
    }
   ],
   "source": [
    "Age_df= new_df.groupby('age_of_shooter')[\"fatalities\",\"injured\",\"Total_victims\"].sum()\n",
    "Age_df.head()"
   ]
  },
  {
   "cell_type": "markdown",
   "metadata": {},
   "source": [
    "### All over"
   ]
  },
  {
   "cell_type": "code",
   "execution_count": 855,
   "metadata": {
    "scrolled": true
   },
   "outputs": [
    {
     "data": {
      "text/plain": [
       "[<matplotlib.lines.Line2D at 0x29fd562fb48>]"
      ]
     },
     "execution_count": 855,
     "metadata": {},
     "output_type": "execute_result"
    },
    {
     "data": {
      "image/png": "[encoded data removed]",
      "text/plain": [
       "<Figure size 936x288 with 1 Axes>"
      ]
     },
     "metadata": {},
     "output_type": "display_data"
    }
   ],
   "source": [
    "plt.plot(Age_df.index, Age_df.Total_victims)\n",
    "plt.plot(Age_df.index, Age_df.injured)\n",
    "plt.plot(Age_df.index, Age_df.fatalities)"
   ]
  },
  {
   "cell_type": "code",
   "execution_count": 936,
   "metadata": {
    "scrolled": true
   },
   "outputs": [],
   "source": [
    "new_df.replace({\"yes\":\"Yes\", \"Unknown\": \"Unclear\", \"unclear\": \"Unclear\"}, inplace = True)"
   ]
  },
  {
   "cell_type": "markdown",
   "metadata": {},
   "source": [
    "## Visualization of Mental health"
   ]
  },
  {
   "cell_type": "code",
   "execution_count": 1007,
   "metadata": {
    "scrolled": true
   },
   "outputs": [
    {
     "data": {
      "text/plain": [
       "Text(0, 0.5, 'Incidents')"
      ]
     },
     "execution_count": 1007,
     "metadata": {},
     "output_type": "execute_result"
    },
    {
     "data": {
      "image/png": "[encoded data removed]",
      "text/plain": [
       "<Figure size 720x360 with 1 Axes>"
      ]
     },
     "metadata": {},
     "output_type": "display_data"
    }
   ],
   "source": [
    "sns.countplot(\"prior_signs_mental_health_issues\",data= new_df, order=['Yes','No','TBD','Unclear'])\n",
    "sns.set(rc={'figure.figsize':(10,5)})\n",
    "plt.xlabel(\"Mental health\")\n",
    "plt.ylabel(\"Incidents\")"
   ]
  },
  {
   "cell_type": "markdown",
   "metadata": {},
   "source": [
    "## Visualization of Weapon"
   ]
  },
  {
   "cell_type": "code",
   "execution_count": 947,
   "metadata": {},
   "outputs": [],
   "source": [
    "new_df.replace({\"\\nYes\":\"Yes\",\"Kelley passed federal criminal background checks; the US Air Force failed to provide information on his criminal history to the FBI\": \"No\",'Yes (\"some of the weapons were purchased legally and some of them may not have been\")': \"No\"}, inplace = True)"
   ]
  },
  {
   "cell_type": "code",
   "execution_count": 948,
   "metadata": {
    "scrolled": true
   },
   "outputs": [
    {
     "data": {
      "text/plain": [
       "Yes        84\n",
       "No         18\n",
       "Unclear    13\n",
       "TBD         7\n",
       "Yes         1\n",
       "Name: weapons_obtained_legally, dtype: int64"
      ]
     },
     "execution_count": 948,
     "metadata": {},
     "output_type": "execute_result"
    }
   ],
   "source": [
    "new_df[\"weapons_obtained_legally\"].value_counts()"
   ]
  },
  {
   "cell_type": "code",
   "execution_count": 1008,
   "metadata": {},
   "outputs": [
    {
     "data": {
      "text/plain": [
       "Text(0, 0.5, 'Incidents')"
      ]
     },
     "execution_count": 1008,
     "metadata": {},
     "output_type": "execute_result"
    },
    {
     "data": {
      "image/png": "[encoded data removed]",
      "text/plain": [
       "<Figure size 720x360 with 1 Axes>"
      ]
     },
     "metadata": {},
     "output_type": "display_data"
    }
   ],
   "source": [
    "sns.countplot(\"weapons_obtained_legally\",data= new_df, order=['Yes','No','TBD','Unclear'])\n",
    "sns.set(rc={'figure.figsize':(10,5)})\n",
    "plt.xlabel(\"Weapon legal\")\n",
    "plt.ylabel(\"Incidents\")"
   ]
  },
  {
   "cell_type": "markdown",
   "metadata": {},
   "source": [
    "## Visualization of Race"
   ]
  },
  {
   "cell_type": "code",
   "execution_count": 973,
   "metadata": {
    "scrolled": true
   },
   "outputs": [
    {
     "data": {
      "text/plain": [
       "White              67\n",
       "Black              20\n",
       "Latino             10\n",
       "Unclear             9\n",
       "Asian               8\n",
       "Other               5\n",
       "Native American     3\n",
       "White               1\n",
       "Name: race, dtype: int64"
      ]
     },
     "execution_count": 973,
     "metadata": {},
     "output_type": "execute_result"
    }
   ],
   "source": [
    "new_df[\"race\"].value_counts()"
   ]
  },
  {
   "cell_type": "code",
   "execution_count": 972,
   "metadata": {},
   "outputs": [],
   "source": [
    "new_df.replace({\"white\":\"White\", \"black\": \"Black\" }, inplace = True)"
   ]
  },
  {
   "cell_type": "code",
   "execution_count": 1009,
   "metadata": {
    "scrolled": true
   },
   "outputs": [
    {
     "data": {
      "text/plain": [
       "Text(0, 0.5, 'Incidents')"
      ]
     },
     "execution_count": 1009,
     "metadata": {},
     "output_type": "execute_result"
    },
    {
     "data": {
      "image/png": "[encoded data removed]",
      "text/plain": [
       "<Figure size 720x360 with 1 Axes>"
      ]
     },
     "metadata": {},
     "output_type": "display_data"
    }
   ],
   "source": [
    "sns.countplot(\"race\",data= new_df, order= ['White','Black','Latino','Asian','Native American','Other','Unclear'])\n",
    "\n",
    "sns.set(rc={'figure.figsize':(10,5)})\n",
    "plt.ylabel(\"Incidents\")"
   ]
  },
  {
   "cell_type": "markdown",
   "metadata": {},
   "source": [
    "## Visualization of Gender"
   ]
  },
  {
   "cell_type": "code",
   "execution_count": 981,
   "metadata": {
    "scrolled": false
   },
   "outputs": [
    {
     "data": {
      "text/plain": [
       "Male             119\n",
       "Female             3\n",
       "Male & Female      1\n",
       "Name: gender, dtype: int64"
      ]
     },
     "execution_count": 981,
     "metadata": {},
     "output_type": "execute_result"
    }
   ],
   "source": [
    "new_df[\"gender\"].value_counts()"
   ]
  },
  {
   "cell_type": "code",
   "execution_count": 980,
   "metadata": {},
   "outputs": [],
   "source": [
    "new_df.replace({\"M\":\"Male\", \"F\": \"Female\" }, inplace = True)"
   ]
  },
  {
   "cell_type": "code",
   "execution_count": 1011,
   "metadata": {},
   "outputs": [
    {
     "data": {
      "text/plain": [
       "Text(0, 0.5, 'Incidents')"
      ]
     },
     "execution_count": 1011,
     "metadata": {},
     "output_type": "execute_result"
    },
    {
     "data": {
      "image/png": "[encoded data removed]",
      "text/plain": [
       "<Figure size 288x360 with 1 Axes>"
      ]
     },
     "metadata": {},
     "output_type": "display_data"
    }
   ],
   "source": [
    "sns.countplot(\"gender\",data= new_df, order= ['Male','Female'])\n",
    "\n",
    "sns.set(rc={'figure.figsize':(4,5)})\n",
    "plt.ylabel(\"Incidents\")"
   ]
  },
  {
   "cell_type": "markdown",
   "metadata": {},
   "source": [
    "## Visualization of Type"
   ]
  },
  {
   "cell_type": "code",
   "execution_count": 985,
   "metadata": {
    "scrolled": true
   },
   "outputs": [
    {
     "data": {
      "text/plain": [
       "Mass     105\n",
       "Spree     18\n",
       "Name: type, dtype: int64"
      ]
     },
     "execution_count": 985,
     "metadata": {},
     "output_type": "execute_result"
    }
   ],
   "source": [
    "new_df[\"type\"].value_counts()"
   ]
  },
  {
   "cell_type": "code",
   "execution_count": 1012,
   "metadata": {},
   "outputs": [
    {
     "data": {
      "text/plain": [
       "Text(0, 0.5, 'Incidents')"
      ]
     },
     "execution_count": 1012,
     "metadata": {},
     "output_type": "execute_result"
    },
    {
     "data": {
      "image/png": "[encoded data removed]",
      "text/plain": [
       "<Figure size 288x360 with 1 Axes>"
      ]
     },
     "metadata": {},
     "output_type": "display_data"
    }
   ],
   "source": [
    "sns.countplot(\"type\",data= new_df)\n",
    "\n",
    "sns.set(rc={'figure.figsize':(4,5)})\n",
    "plt.ylabel(\"Incidents\")"
   ]
  }
 ],
 "metadata": {
  "kernelspec": {
   "display_name": "Python 3",
   "language": "python",
   "name": "python3"
  },
  "language_info": {
   "codemirror_mode": {
    "name": "ipython",
    "version": 3
   },
   "file_extension": ".py",
   "mimetype": "text/x-python",
   "name": "python",
   "nbconvert_exporter": "python",
   "pygments_lexer": "ipython3",
   "version": "3.7.4"
  }
 },
 "nbformat": 4,
 "nbformat_minor": 2
}
